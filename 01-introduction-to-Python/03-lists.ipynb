{
 "cells": [
  {
   "cell_type": "markdown",
   "metadata": {},
   "source": [
    "# Working with lists\n",
    "\n",
    " A list is a collection which is ordered and changeable. Allows duplicate members."
   ]
  },
  {
   "cell_type": "markdown",
   "metadata": {},
   "source": [
    "# Create"
   ]
  },
  {
   "cell_type": "code",
   "execution_count": 35,
   "metadata": {},
   "outputs": [
    {
     "name": "stdout",
     "output_type": "stream",
     "text": [
      "['Ali', 'Hassan', 'Hossein'] [1, 2, 3, 4, 5] [3, 4, 5, 6]\n"
     ]
    }
   ],
   "source": [
    "# Method 1: (More common way)\n",
    "students = [\"Ali\", \"Hassan\", \"Hossein\"]\n",
    "# Method 2:\n",
    "numbers = list((1, 2, 3, 4, 5))\n",
    "# Generate list by range\n",
    "my_list = list(range(3,7))\n",
    "\n",
    "print(students, numbers, my_list)"
   ]
  },
  {
   "cell_type": "markdown",
   "metadata": {},
   "source": [
    " Get length"
   ]
  },
  {
   "cell_type": "code",
   "execution_count": 36,
   "metadata": {},
   "outputs": [
    {
     "name": "stdout",
     "output_type": "stream",
     "text": [
      "The length of student list = 3\n"
     ]
    }
   ],
   "source": [
    "print(\"The length of student list = \" + str(len(students)))"
   ]
  },
  {
   "cell_type": "markdown",
   "metadata": {},
   "source": [
    " ## Working with indices"
   ]
  },
  {
   "cell_type": "code",
   "execution_count": 37,
   "metadata": {},
   "outputs": [
    {
     "name": "stdout",
     "output_type": "stream",
     "text": [
      "All students: ['Ali', 'Hassan', 'Hossein']\n",
      "The 1st member of list: Ali\n",
      "The 2nd member of list: Hassan\n",
      "The last member of list: Hossein\n"
     ]
    }
   ],
   "source": [
    "print(f\"All students: {students}\")\n",
    "print(f\"The 1st member of list: {students[0]}\")\n",
    "print(f\"The 2nd member of list: {students[1]}\")\n",
    "print(f\"The last member of list: {students[-1]}\")"
   ]
  },
  {
   "cell_type": "markdown",
   "metadata": {},
   "source": [
    "## Members"
   ]
  },
  {
   "cell_type": "code",
   "execution_count": 38,
   "metadata": {},
   "outputs": [
    {
     "name": "stdout",
     "output_type": "stream",
     "text": [
      "Rdited 2nd member of list: Reza\n"
     ]
    }
   ],
   "source": [
    "#edit member\n",
    "students[1] = 'Reza'\n",
    "print(f\"Rdited 2nd member of list: {students[1]}\")"
   ]
  },
  {
   "cell_type": "code",
   "execution_count": 39,
   "metadata": {},
   "outputs": [
    {
     "name": "stdout",
     "output_type": "stream",
     "text": [
      "All students after adding Taghi: ['Ali', 'Reza', 'Hossein', 'Taghi']\n",
      "All students after inserting Naghi to the 3rd place: ['Ali', 'Reza', 'Karim', 'Hossein', 'Taghi']\n",
      "All students after inserting a redundant Ali: ['Ali', 'Reza', 'Karim', 'Hossein', 'Taghi', 'Ali']\n"
     ]
    }
   ],
   "source": [
    "#Add member\n",
    "students.append('Taghi')\n",
    "print(f\"All students after adding Taghi: {students}\")\n",
    "students.insert(2, \"Karim\")\n",
    "print(f\"All students after inserting Naghi to the 3rd place: {students}\")\n",
    "students.append(\"Ali\")\n",
    "print(f\"All students after inserting a redundant Ali: {students}\")"
   ]
  },
  {
   "cell_type": "code",
   "execution_count": 40,
   "metadata": {},
   "outputs": [
    {
     "name": "stdout",
     "output_type": "stream",
     "text": [
      "All students after deleting the 2nd member: ['Ali', 'Karim', 'Hossein', 'Taghi', 'Ali']\n",
      "All students after removing Karim: ['Ali', 'Hossein', 'Taghi', 'Ali']\n",
      "All students after removing Ali- Only the first occurance: ['Hossein', 'Taghi', 'Ali']\n"
     ]
    }
   ],
   "source": [
    "#remove member (by value)\n",
    "del(students[1])\n",
    "print(f\"All students after deleting the 2nd member: {students}\")\n",
    "students.remove('Karim')\n",
    "print(f\"All students after removing Karim: {students}\")\n",
    "students.remove('Ali')\n",
    "print(f\"All students after removing Ali- Only the first occurance: {students}\")"
   ]
  },
  {
   "cell_type": "code",
   "execution_count": 41,
   "metadata": {},
   "outputs": [
    {
     "data": {
      "text/plain": [
       "[1, 2, 3, 5]"
      ]
     },
     "execution_count": 41,
     "metadata": {},
     "output_type": "execute_result"
    }
   ],
   "source": [
    "# remove member (by inedx)\n",
    "newlist = [1, 2, 3, 4, 5]\n",
    "del newlist[3] # remove number 4 (index 3) from the list\n",
    "newlist"
   ]
  },
  {
   "cell_type": "code",
   "execution_count": 42,
   "metadata": {},
   "outputs": [
    {
     "name": "stdout",
     "output_type": "stream",
     "text": [
      "Poped member is Hossein and the new list is ['Taghi', 'Ali']\n"
     ]
    }
   ],
   "source": [
    "#pop\n",
    "poped = students.pop(0)\n",
    "print(f\"Poped member is {poped} and the new list is {students}\")"
   ]
  },
  {
   "cell_type": "code",
   "execution_count": 43,
   "metadata": {},
   "outputs": [
    {
     "name": "stdout",
     "output_type": "stream",
     "text": [
      "New list is ['Taghi', 'Ali', 'Hassan']\n"
     ]
    }
   ],
   "source": [
    "#Append\n",
    "students.append(\"Hassan\")\n",
    "print(f\"New list is {students}\")"
   ]
  },
  {
   "cell_type": "code",
   "execution_count": 44,
   "metadata": {},
   "outputs": [
    {
     "name": "stdout",
     "output_type": "stream",
     "text": [
      "MIN: 1\n",
      "MAX: 5\n"
     ]
    }
   ],
   "source": [
    "# min/max methods\n",
    "print(f\"MIN: {min(numbers)}\")\n",
    "print(f\"MAX: {max(numbers)}\")"
   ]
  },
  {
   "cell_type": "markdown",
   "metadata": {},
   "source": [
    "## Ordering"
   ]
  },
  {
   "cell_type": "code",
   "execution_count": 45,
   "metadata": {},
   "outputs": [
    {
     "name": "stdout",
     "output_type": "stream",
     "text": [
      "Reversed list is ['Hassan', 'Ali', 'Taghi']\n"
     ]
    }
   ],
   "source": [
    "# Reverse\n",
    "students.reverse()\n",
    "print(f\"Reversed list is {students}\")"
   ]
  },
  {
   "cell_type": "code",
   "execution_count": 46,
   "metadata": {},
   "outputs": [
    {
     "name": "stdout",
     "output_type": "stream",
     "text": [
      "Sorted temporal list is ['Ali', 'Hassan', 'Taghi']\n",
      "The list is ['Hassan', 'Ali', 'Taghi']\n",
      "Sorted permanet list is ['Ali', 'Hassan', 'Taghi']\n",
      "The list is ['Ali', 'Hassan', 'Taghi']\n",
      "Reversed order: ['Taghi', 'Hassan', 'Ali']\n"
     ]
    }
   ],
   "source": [
    "#Sort\n",
    "print(f\"Sorted temporal list is {sorted(students)}\")\n",
    "print(f\"The list is {students}\")\n",
    "students.sort()\n",
    "print(f\"Sorted permanet list is {sorted(students)}\")\n",
    "print(f\"The list is {students}\")\n",
    "students.sort(reverse=True)\n",
    "print(f\"Reversed order: {students}\")"
   ]
  },
  {
   "cell_type": "markdown",
   "metadata": {},
   "source": [
    "Slicing"
   ]
  },
  {
   "cell_type": "code",
   "execution_count": 47,
   "metadata": {},
   "outputs": [
    {
     "name": "stdout",
     "output_type": "stream",
     "text": [
      "['Hossein', 'Sajjad']\n",
      "['Ali', 'Hasan', 'Hossein', 'Sajjad']\n",
      "['Hossein', 'Sajjad', 'Bagher', 'Sadegh']\n",
      "['Sajjad', 'Bagher', 'Sadegh']\n"
     ]
    }
   ],
   "source": [
    "imams = ['Ali', 'Hasan', 'Hossein', 'Sajjad', 'Bagher', 'Sadegh']\n",
    "print(imams[2:4])   # 2, 3\n",
    "print(imams[:4])    # 0, 1, 2, 3\n",
    "print(imams[2:])    # 2, 3, 4,..., -1\n",
    "print(imams[-3:])    # -3, -2, -1"
   ]
  },
  {
   "cell_type": "markdown",
   "metadata": {},
   "source": [
    " Copying a list"
   ]
  },
  {
   "cell_type": "code",
   "execution_count": 48,
   "metadata": {},
   "outputs": [
    {
     "name": "stdout",
     "output_type": "stream",
     "text": [
      "My favorite foods are: ['pizza', 'falafel', 'carrot cake', 'Spaghetti']\n",
      "My friend's favorite foods are: ['pizza', 'falafel', 'carrot cake', 'ice cream']\n"
     ]
    }
   ],
   "source": [
    "my_foods = ['pizza', 'falafel', 'carrot cake']\n",
    "friend_foods = my_foods[:]  # Right\n",
    "#friend_foods = my_foods    # Wrong\n",
    "my_foods.append('Spaghetti')\n",
    "friend_foods.append('ice cream')\n",
    "print(\"My favorite foods are:\", my_foods)\n",
    "print(\"My friend's favorite foods are:\", friend_foods)"
   ]
  }
 ],
 "metadata": {
  "kernelspec": {
   "display_name": "Python 3",
   "language": "python",
   "name": "python3"
  },
  "language_info": {
   "codemirror_mode": {
    "name": "ipython",
    "version": 3
   },
   "file_extension": ".py",
   "mimetype": "text/x-python",
   "name": "python",
   "nbconvert_exporter": "python",
   "pygments_lexer": "ipython3",
   "version": "3.12.1"
  }
 },
 "nbformat": 4,
 "nbformat_minor": 2
}
