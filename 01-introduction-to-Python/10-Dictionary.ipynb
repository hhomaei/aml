{
 "cells": [
  {
   "cell_type": "markdown",
   "metadata": {},
   "source": [
    "# Dictionary\n",
    "\n",
    " A Dictionary is a collection of key-value pairs.\n",
    "\n",
    " It is unordered, changeable, and indexed. No duplicate members."
   ]
  },
  {
   "cell_type": "markdown",
   "metadata": {},
   "source": [
    "# Create"
   ]
  },
  {
   "cell_type": "code",
   "execution_count": 3,
   "metadata": {},
   "outputs": [
    {
     "data": {
      "text/plain": [
       "({'first_name': 'Hossein', 'last_name': 'Homaei', 'age': 40},\n",
       " {'first_name': 'Ali', 'last_name': 'Alavi'})"
      ]
     },
     "execution_count": 3,
     "metadata": {},
     "output_type": "execute_result"
    }
   ],
   "source": [
    "# Method 1:\n",
    "person = {\n",
    "    'first_name': 'Hossein',\n",
    "    'last_name': 'Homaei',\n",
    "    'age': 40\n",
    "}\n",
    "empty_dictionary = {}\n",
    "# Method 2:\n",
    "person2 = dict(first_name='Ali', last_name='Alavi')\n",
    "person, person2"
   ]
  },
  {
   "cell_type": "code",
   "execution_count": 4,
   "metadata": {},
   "outputs": [
    {
     "name": "stdout",
     "output_type": "stream",
     "text": [
      "2\n"
     ]
    }
   ],
   "source": [
    "# Get length\n",
    "print(len(person2))"
   ]
  },
  {
   "cell_type": "code",
   "execution_count": 5,
   "metadata": {},
   "outputs": [
    {
     "name": "stdout",
     "output_type": "stream",
     "text": [
      "[{'name': 'hossein', 'age': 40}, {'name': 'Ali', 'age': 50}]\n",
      "hossein\n"
     ]
    }
   ],
   "source": [
    "# List of dict\n",
    "people = [\n",
    "    {'name': 'hossein', 'age': 40},\n",
    "    {'name': 'Ali', 'age': 50}\n",
    "]\n",
    "\n",
    "print(people)\n",
    "print(people[0]['name'])"
   ]
  },
  {
   "cell_type": "code",
   "execution_count": 6,
   "metadata": {},
   "outputs": [
    {
     "name": "stdout",
     "output_type": "stream",
     "text": [
      "You ordered a thick-crust pizza with the following toppings:\n",
      "\tmushrooms\n",
      "\textra cheese\n"
     ]
    }
   ],
   "source": [
    "# Dictionary contains a list\n",
    "pizza = {\n",
    "    'crust': 'thick',\n",
    "    'toppings': ['mushrooms', 'extra cheese']\n",
    "}\n",
    "print(f\"You ordered a {pizza['crust']}-crust pizza \"\n",
    "      \"with the following toppings:\")\n",
    "for topping in pizza['toppings']:\n",
    "    print(f\"\\t{topping}\")"
   ]
  },
  {
   "cell_type": "code",
   "execution_count": 7,
   "metadata": {},
   "outputs": [
    {
     "name": "stdout",
     "output_type": "stream",
     "text": [
      "{'first_name': 'Hossein', 'last_name': 'Homaei', 'age': 40} <class 'dict'>\n",
      "{'first_name': 'Ali', 'last_name': 'Alavi'} <class 'dict'>\n"
     ]
    }
   ],
   "source": [
    "# Nested dictionaries\n",
    "users = {\n",
    "    'user1': {\n",
    "        'name' : 'Ali',\n",
    "        'last' : 'Alavi',\n",
    "        'location' : 'Aliabad'\n",
    "    }, \n",
    "    'user2': {\n",
    "        'name' : 'Hossein',\n",
    "        'last' : 'Homaei',\n",
    "        'location' : 'Tehran'        \n",
    "    }\n",
    "}\n",
    "\n",
    "print(person, type(person))\n",
    "print(person2, type(person2))"
   ]
  },
  {
   "cell_type": "markdown",
   "metadata": {},
   "source": [
    "# Members"
   ]
  },
  {
   "cell_type": "code",
   "execution_count": 8,
   "metadata": {},
   "outputs": [
    {
     "name": "stdout",
     "output_type": "stream",
     "text": [
      "Hossein\n",
      "Homaei\n",
      "Empty phone!\n"
     ]
    }
   ],
   "source": [
    "# Get value\n",
    "print(person['first_name'])     # If key does not exist returns error (KeyError)\n",
    "print(person.get('last_name'))  # Same as previous -> If key does not exist returns None\n",
    "print(person.get('phone_number', \"Empty phone!\"))   # Return default value (2nd argument) instead of error"
   ]
  },
  {
   "cell_type": "code",
   "execution_count": 9,
   "metadata": {},
   "outputs": [
    {
     "name": "stdout",
     "output_type": "stream",
     "text": [
      "{'first_name': 'Hossein', 'last_name': 'Homaei', 'age': 40, 'phone': '09121234567'}\n"
     ]
    }
   ],
   "source": [
    "# Add a new key-value\n",
    "person['phone'] = '09121234567'\n",
    "print(person)"
   ]
  },
  {
   "cell_type": "code",
   "execution_count": 10,
   "metadata": {},
   "outputs": [
    {
     "name": "stdout",
     "output_type": "stream",
     "text": [
      "\n",
      "--- Results ---\n",
      "Hossein would like to climb Alborz.\n"
     ]
    }
   ],
   "source": [
    "# Filling a Dictionary with User Inputs.\n",
    "responses = {}\n",
    "polling_active = True\n",
    "while True:\n",
    "    name = input(\"\\nWhat is your name? \")\n",
    "    response = input(\"Which mountain would you like to climb someday? \")\n",
    "    responses[name] = response\n",
    "    repeat = input(\"Would you like to let another person respond? (yes/ no) \")\n",
    "    if repeat.lower() == 'no' or repeat.lower() == 'n':\n",
    "        break\n",
    "print(\"\\n--- Results ---\")\n",
    "for name, response in responses.items():\n",
    "    print(f\"{name.title()} would like to climb {response.title()}.\")"
   ]
  },
  {
   "cell_type": "code",
   "execution_count": 11,
   "metadata": {},
   "outputs": [
    {
     "name": "stdout",
     "output_type": "stream",
     "text": [
      "{'first_name': 'Ali', 'last_name': 'Alavian'}\n"
     ]
    }
   ],
   "source": [
    "# Modifying values\n",
    "person2['last_name'] = 'Alavian'\n",
    "print(person2)"
   ]
  },
  {
   "cell_type": "code",
   "execution_count": 12,
   "metadata": {},
   "outputs": [
    {
     "name": "stdout",
     "output_type": "stream",
     "text": [
      "dict_keys(['first_name', 'last_name', 'age', 'phone'])\n"
     ]
    }
   ],
   "source": [
    "# Get keys\n",
    "print(person.keys())"
   ]
  },
  {
   "cell_type": "code",
   "execution_count": 13,
   "metadata": {},
   "outputs": [
    {
     "name": "stdout",
     "output_type": "stream",
     "text": [
      "dict_items([('first_name', 'Hossein'), ('last_name', 'Homaei'), ('age', 40), ('phone', '09121234567')])\n"
     ]
    }
   ],
   "source": [
    "# Get items\n",
    "print(person.items())\n"
   ]
  },
  {
   "cell_type": "code",
   "execution_count": 14,
   "metadata": {},
   "outputs": [
    {
     "name": "stdout",
     "output_type": "stream",
     "text": [
      "{'first_name': 'Hossein', 'last_name': 'Homaei'}\n"
     ]
    }
   ],
   "source": [
    "# remove item\n",
    "del(person['age'])  # OR del person['age']\n",
    "person.pop('phone')\n",
    "print(person)"
   ]
  },
  {
   "cell_type": "markdown",
   "metadata": {},
   "source": [
    "## Copy"
   ]
  },
  {
   "cell_type": "code",
   "execution_count": 15,
   "metadata": {},
   "outputs": [
    {
     "name": "stdout",
     "output_type": "stream",
     "text": [
      "{'first_name': 'Hossein', 'last_name': 'Homaei'} {'first_name': 'Hossein', 'last_name': 'Homaei', 'city': 'Tehran'}\n"
     ]
    }
   ],
   "source": [
    "person3 = person.copy()\n",
    "person3['city'] = 'Tehran'\n",
    "print(person, person3)"
   ]
  },
  {
   "cell_type": "markdown",
   "metadata": {},
   "source": [
    "## Clear"
   ]
  },
  {
   "cell_type": "code",
   "execution_count": 16,
   "metadata": {},
   "outputs": [
    {
     "name": "stdout",
     "output_type": "stream",
     "text": [
      "{}\n"
     ]
    }
   ],
   "source": [
    "# clear\n",
    "person.clear()\n",
    "print(person)"
   ]
  },
  {
   "cell_type": "markdown",
   "metadata": {},
   "source": [
    "## Looping through a dictionary"
   ]
  },
  {
   "cell_type": "code",
   "execution_count": null,
   "metadata": {},
   "outputs": [
    {
     "name": "stdout",
     "output_type": "stream",
     "text": [
      "Ali loves Python\n",
      "Hasan loves C++\n",
      "Hossein loves Java\n",
      "Sadjjad loves C++\n"
     ]
    }
   ],
   "source": [
    "favorite_languages = {\n",
    "    'Ali' : 'Python',\n",
    "    'Hasan' : 'C++',\n",
    "    'Hossein' : 'Java',\n",
    "    'Sadjjad' : 'C++'\n",
    "}\n",
    "\n",
    "# Looping through all key-value pairs\n",
    "for name, lang in favorite_languages.items():\n",
    "    print(f\"{name.title()} loves {lang}\")"
   ]
  },
  {
   "cell_type": "code",
   "execution_count": null,
   "metadata": {},
   "outputs": [
    {
     "name": "stdout",
     "output_type": "stream",
     "text": [
      "Ali loves Python\n",
      "Hasan loves C++\n"
     ]
    }
   ],
   "source": [
    "# Looping through all keys\n",
    "friends = ['Ali', 'Hasan']\n",
    "for name in favorite_languages.keys():\n",
    "    if name in friends:\n",
    "        print(f\"{name.title()} loves {favorite_languages[name]}\")"
   ]
  },
  {
   "cell_type": "code",
   "execution_count": null,
   "metadata": {},
   "outputs": [
    {
     "name": "stdout",
     "output_type": "stream",
     "text": [
      "Favorite languages are: \n",
      "C++\n",
      "Java\n",
      "Python\n"
     ]
    }
   ],
   "source": [
    "# Looping through all values\n",
    "print(\"Favorite languages are: \")\n",
    "for langs in sorted(set(favorite_languages.values())):  # Set is used to prevent redundancy\n",
    "    print(langs.title())"
   ]
  }
 ],
 "metadata": {
  "kernelspec": {
   "display_name": "Python 3",
   "language": "python",
   "name": "python3"
  },
  "language_info": {
   "codemirror_mode": {
    "name": "ipython",
    "version": 3
   },
   "file_extension": ".py",
   "mimetype": "text/x-python",
   "name": "python",
   "nbconvert_exporter": "python",
   "pygments_lexer": "ipython3",
   "version": "3.12.1"
  }
 },
 "nbformat": 4,
 "nbformat_minor": 2
}
