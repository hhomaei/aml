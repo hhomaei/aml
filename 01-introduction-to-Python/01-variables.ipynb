{
 "cells": [
  {
   "cell_type": "markdown",
   "metadata": {},
   "source": [
    "# Comments"
   ]
  },
  {
   "cell_type": "code",
   "execution_count": 1,
   "metadata": {},
   "outputs": [
    {
     "data": {
      "text/plain": [
       "'\\nThis is another multi-line comment block\\nline 1\\nline 2\\n'"
      ]
     },
     "execution_count": 1,
     "metadata": {},
     "output_type": "execute_result"
    }
   ],
   "source": [
    "'''\n",
    "Hello, This is a multi-line comment block\n",
    "line 1\n",
    "line 2\n",
    "'''\n",
    "\n",
    "\"\"\"\n",
    "This is another multi-line comment block\n",
    "line 1\n",
    "line 2\n",
    "\"\"\"\n",
    "\n",
    "#This is a single line comment"
   ]
  },
  {
   "cell_type": "markdown",
   "metadata": {
    "vscode": {
     "languageId": "plaintext"
    }
   },
   "source": [
    "# Define variables"
   ]
  },
  {
   "cell_type": "code",
   "execution_count": 2,
   "metadata": {},
   "outputs": [
    {
     "name": "stdout",
     "output_type": "stream",
     "text": [
      "variables:  1 2.5 Hossein True\n",
      "4_000_000 underscores for code readability: 4000000\n",
      "<class 'float'> <class 'int'>\n",
      "<class 'str'> 1\n",
      "<class 'int'> 2\n"
     ]
    }
   ],
   "source": [
    "# Define variables = assigning value\n",
    "x = 1               # integer\n",
    "y = 2.5             # float\n",
    "name = 'Hossein'    # string\n",
    "is_cool = True      # bool\n",
    "\n",
    "# compact form\n",
    "x, y, name, is_cool = 1, 2.5, 'Hossein', True\n",
    "print('variables: ', x, y, name, is_cool)\n",
    "\n",
    "wowNum = 4_000_000\n",
    "print(f\"4_000_000 underscores for code readability: {wowNum}\")\n",
    "\n",
    "#There is no special keyword to define constants\n",
    "#However, There is a non-written contract between coders that use UPPER CASES to show that a variable is a constant\n",
    "PI = 3.14\n",
    "\n",
    "# Find the variable types\n",
    "print(type(PI), type(wowNum))\n",
    "\n",
    "#casting\n",
    "x = str(x)\n",
    "y = int(y)\n",
    "print(type(x), x)\n",
    "print(type(y), y)"
   ]
  },
  {
   "cell_type": "markdown",
   "metadata": {},
   "source": [
    "# basic calculation"
   ]
  },
  {
   "cell_type": "code",
   "execution_count": 3,
   "metadata": {},
   "outputs": [
    {
     "name": "stdout",
     "output_type": "stream",
     "text": [
      "Adding Result: 7\n",
      "Deviding result: 2.5\n",
      "Modulo result: 1\n",
      "Power result: 25\n",
      "14\n"
     ]
    }
   ],
   "source": [
    "num1 = 5\n",
    "num2 = 2\n",
    "\n",
    "addRes = num1 + num2\n",
    "divRes = num1/num2\n",
    "divRem = num1%num2\n",
    "powRes = num1 ** num2\n",
    "\n",
    "print(f\"adding result: {addRes}\".title())\n",
    "print(f\"Deviding result: {divRes}\")\n",
    "print(f\"Modulo result: {divRem}\")\n",
    "print(f\"Power result: {powRes}\")\n",
    "\n",
    "#calculation inside print\n",
    "n1, n2, n3 = 2, 3, 4\n",
    "print(n1 + n2 * n3)"
   ]
  },
  {
   "cell_type": "markdown",
   "metadata": {},
   "source": [
    "# Floating-points"
   ]
  },
  {
   "cell_type": "code",
   "execution_count": 4,
   "metadata": {},
   "outputs": [
    {
     "name": "stdout",
     "output_type": "stream",
     "text": [
      "WOW result for 2.1-3: -0.8999999999999999\n",
      "float 3: -0.9\n",
      "float1-float2 does NOT exactly equal float3!\n",
      "float1-float2 equals float3\n"
     ]
    }
   ],
   "source": [
    "\n",
    "# Floating-point numbers are represented in computer hardware as base 2 (binary) fractions. \n",
    "# Unfortunately, most decimal fractions cannot be represented exactly as binary fractions.\n",
    "# A consequence is that, in general, the decimal floating-point numbers you enter are only approximated by the binary floating-point numbers actually stored in the machine\n",
    "float1 = 2.1\n",
    "float2 = 3\n",
    "minusRes = float1 - float2\n",
    "print(f\"WOW result for 2.1-3: {minusRes}\")\n",
    "\n",
    "float3 = -0.9\n",
    "print(f\"float 3: {float3}\")\n",
    "if minusRes == float3:\n",
    "    print(\"float1-float2 exactly equals float3\")\n",
    "else:\n",
    "    print(\"float1-float2 does NOT exactly equal float3!\")\n",
    "\n",
    "allowed_error=0.00001\n",
    "if abs(minusRes - float3) <= allowed_error:\n",
    "    print(\"float1-float2 equals float3\")\n",
    "else:\n",
    "    print(\"float1-float2 does NOT equal float3!\")"
   ]
  }
 ],
 "metadata": {
  "kernelspec": {
   "display_name": "Python 3",
   "language": "python",
   "name": "python3"
  },
  "language_info": {
   "codemirror_mode": {
    "name": "ipython",
    "version": 3
   },
   "file_extension": ".py",
   "mimetype": "text/x-python",
   "name": "python",
   "nbconvert_exporter": "python",
   "pygments_lexer": "ipython3",
   "version": "3.12.4"
  }
 },
 "nbformat": 4,
 "nbformat_minor": 2
}
