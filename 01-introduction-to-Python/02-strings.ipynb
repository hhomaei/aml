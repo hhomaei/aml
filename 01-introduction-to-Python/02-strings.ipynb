{
 "cells": [
  {
   "cell_type": "markdown",
   "metadata": {},
   "source": [
    "## Definition and concatenation\n"
   ]
  },
  {
   "cell_type": "code",
   "execution_count": 2,
   "metadata": {},
   "outputs": [
    {
     "name": "stdout",
     "output_type": "stream",
     "text": [
      "Simple concatenation: My name is Hossein Homaei and I'm 40\n",
      "3.141592653589793238...\n"
     ]
    }
   ],
   "source": [
    "first_name = \"Hossein\"\n",
    "last_name = 'Homaei'\n",
    "age = 40\n",
    "space = ' '\n",
    "\n",
    "#String concatenation and integer as string\n",
    "print (\"Simple concatenation: My name is \" + first_name + space + last_name + \" and I'm \" + str(age))\n",
    "\n",
    "# Part of string\n",
    "pi_string = \"3.14159265358979323846264338327950288419716939937510\"\n",
    "print(f\"{pi_string[:20]}...\")"
   ]
  },
  {
   "cell_type": "markdown",
   "metadata": {},
   "source": [
    "## Use ' and \""
   ]
  },
  {
   "cell_type": "code",
   "execution_count": 3,
   "metadata": {},
   "outputs": [
    {
     "name": "stdout",
     "output_type": "stream",
     "text": [
      "hossein's phone= 09121234567\n",
      "Hossein said: \"hello\"\n"
     ]
    }
   ],
   "source": [
    "# use ' or \" inside strings\n",
    "phone_label = \"hossein's phone\"\n",
    "quote = 'Hossein said: \"hello\"'\n",
    "print (phone_label +  \"= 09121234567\")\n",
    "print (quote)"
   ]
  },
  {
   "cell_type": "markdown",
   "metadata": {},
   "source": [
    "## Format String"
   ]
  },
  {
   "cell_type": "code",
   "execution_count": 4,
   "metadata": {},
   "outputs": [
    {
     "name": "stdout",
     "output_type": "stream",
     "text": [
      "Arguments by position: My name is Hossein Homaei and I'm 40\n",
      "F-String-1: My name is Hossein Homaei and I'm 40\n",
      "F-String-2: My name is Hossein Homaei and I'm 40\n"
     ]
    }
   ],
   "source": [
    "# Arguments by position\n",
    "print (\"Arguments by position: My name is {name} and I'm {age}\".format(name= first_name + space + last_name, age= age))\n",
    "\n",
    "# F-Strings (Python 3.6+)\n",
    "my_string = f\"F-String-1: My name is {first_name} {last_name} and I'm {age}\"\n",
    "print(my_string)\n",
    "print(f\"F-String-2: My name is {first_name} {last_name} and I'm {age}\")"
   ]
  },
  {
   "cell_type": "markdown",
   "metadata": {},
   "source": [
    "## String methods"
   ]
  },
  {
   "cell_type": "code",
   "execution_count": null,
   "metadata": {},
   "outputs": [
    {
     "name": "stdout",
     "output_type": "stream",
     "text": [
      "capitalize method: Hello world\n",
      "title method: Hello World\n",
      "lower method: hello world\n",
      "upper method: HELLO WORLD\n",
      "swapcase method: hELLO WORLD\n"
     ]
    }
   ],
   "source": [
    "s = \"Hello world\"\n",
    "\n",
    "# Play with cases!\n",
    "print (\"capitalize method: \" + s.capitalize())\n",
    "print (\"title method: \" + s.title())\n",
    "print (\"lower method: \" + s.lower())\n",
    "print (\"upper method: \" + s.upper())\n",
    "print (\"swapcase method: \" + s.swapcase())"
   ]
  },
  {
   "cell_type": "code",
   "execution_count": 7,
   "metadata": {},
   "outputs": [
    {
     "name": "stdout",
     "output_type": "stream",
     "text": [
      "length of string = 11\n",
      "number of h inside s: 1\n",
      "find position r: 8\n"
     ]
    }
   ],
   "source": [
    "# general method len\n",
    "print(\"length of string = \" + str(len(s)))\n",
    "\n",
    "# Count\n",
    "print (\"number of h inside s: \" + str(s.lower().count('h')))\n",
    "\n",
    "# Find position\n",
    "print(\"find position r: \" + str(s.find('r'))) # first index = 0"
   ]
  },
  {
   "cell_type": "code",
   "execution_count": 8,
   "metadata": {},
   "outputs": [
    {
     "name": "stdout",
     "output_type": "stream",
     "text": [
      "Does it start with Hello?\n",
      "True\n",
      "Does it end with d?\n",
      "True\n"
     ]
    }
   ],
   "source": [
    "#Start and end with\n",
    "print(\"Does it start with Hello?\")\n",
    "print(s.startswith('Hello'))\n",
    "print(\"Does it end with d?\")\n",
    "print(s.endswith('d'))"
   ]
  },
  {
   "cell_type": "code",
   "execution_count": 9,
   "metadata": {},
   "outputs": [
    {
     "name": "stdout",
     "output_type": "stream",
     "text": [
      "Is it alpha?\n",
      "False\n",
      "Is it numeric?\n",
      "False\n",
      "Is it alpha-numeric?\n",
      "False\n"
     ]
    }
   ],
   "source": [
    "# Check alphanumeric\n",
    "print(\"Is it alpha?\")\n",
    "print(s.isalpha()) # false becase of space\n",
    "print(\"Is it numeric?\")\n",
    "print(s.isnumeric())\n",
    "print(\"Is it alpha-numeric?\") # false becase of space\n",
    "print(s.isalnum())"
   ]
  },
  {
   "cell_type": "code",
   "execution_count": 10,
   "metadata": {},
   "outputs": [
    {
     "name": "stdout",
     "output_type": "stream",
     "text": [
      "replace method: Hello everyone\n"
     ]
    },
    {
     "data": {
      "text/plain": [
       "['Hello', 'world']"
      ]
     },
     "execution_count": 10,
     "metadata": {},
     "output_type": "execute_result"
    }
   ],
   "source": [
    "# Replace\n",
    "print (\"replace method: \" + s.replace('world', 'everyone'))\n",
    "\n",
    "# Split into a list of worlds. delimitter = space\n",
    "s.split()"
   ]
  },
  {
   "cell_type": "code",
   "execution_count": 11,
   "metadata": {},
   "outputs": [
    {
     "name": "stdout",
     "output_type": "stream",
     "text": [
      "\t tab  spece  \n",
      "\n",
      "tab  spece\n",
      "tab  spece  \n",
      "\n",
      "\t tab  spece\n"
     ]
    }
   ],
   "source": [
    "# Strip\n",
    "st2 = \"\\t tab  spece  \\n\"\n",
    "print (st2)\n",
    "print (st2.strip())\n",
    "print (st2.lstrip())\n",
    "print (st2.rstrip())"
   ]
  }
 ],
 "metadata": {
  "kernelspec": {
   "display_name": "Python 3",
   "language": "python",
   "name": "python3"
  },
  "language_info": {
   "codemirror_mode": {
    "name": "ipython",
    "version": 3
   },
   "file_extension": ".py",
   "mimetype": "text/x-python",
   "name": "python",
   "nbconvert_exporter": "python",
   "pygments_lexer": "ipython3",
   "version": "3.12.1"
  }
 },
 "nbformat": 4,
 "nbformat_minor": 2
}
