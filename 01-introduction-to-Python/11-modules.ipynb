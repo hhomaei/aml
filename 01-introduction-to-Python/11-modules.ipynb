{
 "cells": [
  {
   "cell_type": "markdown",
   "metadata": {},
   "source": [
    "# Modules\n",
    "A module is a file containing a set of functions to include in your application <br>\n",
    "Types:\n",
    "1. Python core modules, \n",
    "2. Modules that you can install using the pip package manager \n",
    "3. You can create your own modules"
   ]
  },
  {
   "cell_type": "markdown",
   "metadata": {},
   "source": [
    "## Working with core Python modules\n",
    "## Import the whole module"
   ]
  },
  {
   "cell_type": "code",
   "execution_count": 1,
   "metadata": {},
   "outputs": [
    {
     "name": "stdout",
     "output_type": "stream",
     "text": [
      "Time: 7 : 46\n"
     ]
    }
   ],
   "source": [
    "import time\n",
    "currenttime = time.localtime()\n",
    "hour = currenttime.tm_hour\n",
    "minute = currenttime.tm_min\n",
    "print(\"Time:\", hour, \":\", minute)"
   ]
  },
  {
   "cell_type": "markdown",
   "metadata": {},
   "source": [
    "### Import a class or method of a module\n",
    "You can import only a class or method of a package. <br>\n",
    "For example, instead of importimg the whole module 'datetime' and calling datetime.date.today() like this:<br>\n",
    "```python\n",
    "import datetime\n",
    "today = datetime.date.today()\n",
    "```\n",
    ", you can import only the required class date.\n"
   ]
  },
  {
   "cell_type": "code",
   "execution_count": 2,
   "metadata": {},
   "outputs": [
    {
     "name": "stdout",
     "output_type": "stream",
     "text": [
      "2024-10-05\n"
     ]
    }
   ],
   "source": [
    "from datetime import date\n",
    "today = date.today()\n",
    "print(today)"
   ]
  },
  {
   "cell_type": "code",
   "execution_count": 3,
   "metadata": {},
   "outputs": [
    {
     "name": "stdout",
     "output_type": "stream",
     "text": [
      "Hossein\n"
     ]
    }
   ],
   "source": [
    "# Example of importing only the required function\n",
    "from random import choice\n",
    "players = ['Ali', 'Hasan', 'Hossein']\n",
    "print(choice(players))"
   ]
  },
  {
   "cell_type": "markdown",
   "metadata": {},
   "source": [
    "## pip modules\n",
    "Install the intended package using the python package manager (pip)<br>\n",
    "Upgrade the pip module itself: \n",
    "```sh\n",
    "pip install --upgrade pip\n",
    "```\n",
    "Install a new package: \n",
    "```sh\n",
    "pip install module_name \n",
    "```\n",
    "OR \n",
    "```sh\n",
    "pip3 install module_name\n",
    "```\n",
    "The above command install the module_name in the whole system<br><br>\n",
    "You can also make a virtual environment and install the module_name only on that environment<br>\n",
    "For using virtual environment, you should install env: \n",
    "```sh\n",
    "pip install env\n",
    "```\n",
    "To list all installed modules, in command line: \n",
    "```sh\n",
    "pip freeze \n",
    "```\n",
    "OR \n",
    "```sh\n",
    "pip list\n",
    "```\n",
    "To uninstall a package, in command line:\n",
    "```sh\n",
    "pip uninstall module_name\n",
    "```"
   ]
  },
  {
   "cell_type": "code",
   "execution_count": 4,
   "metadata": {},
   "outputs": [
    {
     "name": "stdout",
     "output_type": "stream",
     "text": [
      "Hello World\n"
     ]
    }
   ],
   "source": [
    "# Example: pip install camelcase\n",
    "import camelcase\n",
    "print(camelcase.CamelCase().hump('hello world'))"
   ]
  },
  {
   "cell_type": "markdown",
   "metadata": {},
   "source": [
    "## Custom module\n",
    "Write your module as a .py file in the same folder and then import it by the name"
   ]
  },
  {
   "cell_type": "code",
   "execution_count": 1,
   "metadata": {},
   "outputs": [
    {
     "name": "stdout",
     "output_type": "stream",
     "text": [
      "Email is valid\n"
     ]
    }
   ],
   "source": [
    "# Example: write validator.py and import it or its methods\n",
    "# Importing the entire module:\n",
    "import validator\n",
    "email = 'test@test.ir'\n",
    "#email = 'test#test.ir'\n",
    "if validator.validate_email(email):\n",
    "    print('Email is valid')\n",
    "else:\n",
    "    print('Email is bad')"
   ]
  },
  {
   "cell_type": "markdown",
   "metadata": {},
   "source": [
    "## Import multiple classes\n",
    "Example of Import multiple classes from a module:<br>\n",
    "```Python\n",
    "from car import Car, ElectricCar\n",
    "```\n",
    "\n",
    "<b>Note:</b> importing all classes from a module in the form of \"from module_name import *\" is not recommended; Because:\n",
    "- It is unclear which classes you’re using from the module.\n",
    "- It may lead to confusion with names in your own file. If you accidentally import a class with the same name as something else in your program file, you can create errors that are hard to diagnose."
   ]
  },
  {
   "cell_type": "markdown",
   "metadata": {},
   "source": [
    "## Aliases\n",
    "Why?\n",
    "- Helpful when using modules to organize your projects’ code.\n",
    "- Essential when using a class or function with the same name as the imported one\n",
    "```python\n",
    "from module_name import class_name as class_alias\n",
    "```\n",
    "Example: \n",
    "```python\n",
    "from electric_car import ElectricCar as EC\n",
    "```"
   ]
  },
  {
   "cell_type": "markdown",
   "metadata": {},
   "source": []
  }
 ],
 "metadata": {
  "kernelspec": {
   "display_name": "Python 3",
   "language": "python",
   "name": "python3"
  },
  "language_info": {
   "codemirror_mode": {
    "name": "ipython",
    "version": 3
   },
   "file_extension": ".py",
   "mimetype": "text/x-python",
   "name": "python",
   "nbconvert_exporter": "python",
   "pygments_lexer": "ipython3",
   "version": "3.12.1"
  }
 },
 "nbformat": 4,
 "nbformat_minor": 2
}
