{
 "cells": [
  {
   "cell_type": "markdown",
   "metadata": {},
   "source": [
    "# Markdown Help"
   ]
  },
  {
   "cell_type": "markdown",
   "metadata": {},
   "source": [
    "## Convert py to ipynb\n",
    "\n",
    "1- To specify a markdown cell when the .py file converts to .ipynb file, use the following command in .py file, at the begining of the text:\n",
    "\n",
    "\\# %% [markdown]\n",
    "\n",
    "2- To specify a code cell when the .py file converts to .ipynb file, use the following command in .py file, at the begining of the code lines:\n",
    "\n",
    "\\# %%\n",
    "\n",
    "3- Press ctrl + Shift + P and type \"Jupyter: Export Current Python file and Output as Jupyter Notebook\" in the command Palette.<br>\n",
    "<font color='red'>Note:</font> Sometimes, when you run the above command, VS Code returns an error like this: \n",
    "\"Extension 'vscode.ipynb' is not known or not activated\".\n",
    "In this situation, simply open an arbitrary .ipynb file in VS code and then run the command again!\n",
    "\n",
    "4- Save the file"
   ]
  },
  {
   "cell_type": "markdown",
   "metadata": {},
   "source": [
    "## Jupyter Markdown cheat sheet \n",
    "\n",
    "### Headers\n",
    "\n",
    "- \\# Notebook title\n",
    "- \\## Header 1\n",
    "- \\### Header 2\n",
    "- \\#### Header 3\n",
    "- \\##### Header 4"
   ]
  },
  {
   "cell_type": "markdown",
   "metadata": {},
   "source": [
    "### Special Characters\n",
    "Line break:<br>\n",
    "- Method-1: place two or more empty spaces at the end of a line<br>\n",
    "Line1⌴⌴line2 (two space)\n",
    "- Method-2: use \\<br\\> at the end of the first line\n",
    "\n",
    "Space: \\&nbsp;\n",
    "\n",
    "Arrows:<br>\n",
    "- Up arrow (&uarr;): \\&uarr;\n",
    "- Down arrow (&darr;): \\&darr;\n",
    "- Left arrow (&larr;): \\&larr;\n",
    "- Right arrow (&rarr;): \\&rarr;\n",
    "- Double headed arrow (&harr;): \\&harr;"
   ]
  },
  {
   "cell_type": "markdown",
   "metadata": {},
   "source": [
    "### Font format\n",
    "- \\<b\\>bold text\\</b\\>\n",
    "- \\<i\\>italic text\\</i\\>\n",
    "- \\<strike\\>strike text\\</strike\\>\n",
    "- \\<ins>underline text\\</ins>\n",
    "\n",
    "\n",
    "Results:\n",
    "- <b>bold text</b>\n",
    "- <i>italic text</i>\n",
    "- <strike>strike text</strike>\n",
    "- <ins>underline text</ins>"
   ]
  },
  {
   "cell_type": "markdown",
   "metadata": {},
   "source": [
    "### Color Modification\n",
    "1- Change text color:\n",
    "- Method 1: \\<font color='red'\\>my text\\</font\\> &rarr; <font color='red'>my text</font>\n",
    "- Method 2: \\<span style='color:red'\\>my text\\</span\\> &rarr; <span style='color:red'>my text</span>\n",
    "\n",
    "2- Highlight:\n",
    "- Method 1: \\<mark\\>Marked text\\</mark\\> &rarr; <mark>Marked text</mark>\n",
    "- Method 2: \\<span style='background:yellow'\\>Marked text\\</span\\> &rarr; <span style='background:yellow'>Marked text</span>\n",
    "- Mthod 3: \\<span style=\"background-color: #FFFF00\"\\>Marked text\\</span\\> &rarr;<br>\n",
    ">> <span style=\"background-color: #FFFF00\">Marked text</span>\n",
    "\n",
    "Example:\n",
    "\\<span style='background:yellow'\\>\\<font color='red'\\>my text\\</font\\>\\</span\\> returns: <br>\n",
    "<span style='background:yellow'><font color='red'>my text</font></span>\n",
    "\n"
   ]
  },
  {
   "cell_type": "markdown",
   "metadata": {},
   "source": [
    "### Bullets\n",
    "Use hyphen (-) or an asterisk (*) with > for indentation<br>\n",
    "Example:<br>\n",
    "\\* First item<br>\n",
    "\\* Second item<br>\n",
    "\\> * Subitem 1<br>\n",
    "\\>> * Susubbitem 1<br>\n",
    "\\>> * Susubbitem 2<br>\n",
    "\\> * Subitem 2<br>\n",
    "\\>> * Susubbitem 1<br>\n",
    "\\>> * Susubbitem 2<br>\n",
    "\\>> * Susubbitem 2<br>\n",
    "\\* Third item<br>\n",
    "returns: \n",
    "* First item\n",
    "* Second item\n",
    "> * Subitem 1\n",
    ">> * Susubbitem 1\n",
    ">> * Susubbitem 2\n",
    "> * Subitem 2\n",
    ">> * Susubbitem 1\n",
    ">> * Susubbitem 2\n",
    ">> * Susubbitem 2\n",
    "* Third item</br>\n",
   ]
  },
  {
   "cell_type": "markdown",
   "metadata": {},
   "source": [
    "### Lists\n",
    "Use numbers and indentation or numbers and letters<br>\n",
    "Example-1:<br>\n",
    "1\\. First item<br>\n",
    "2\\. Second item<br>\n",
    "\\> 1\\. Subitem 1<br>\n",
    "\\>\\> 1\\. Susubbitem 1<br>\n",
    "\\>\\> 2\\. Susubbitem 2<br>\n",
    "\\> 2\\. Subitem 2<br>\n",
    "\\>\\> 1\\. Susubbitem 1<br>\n",
    "\\>\\> 2\\. Susubbitem 2<br>\n",
    "\\>\\> 2\\. Susubbitem 2<br>\n",
    "3\\. Third item<br>\n",
    "Returns:\n",
    "1. First item\n",
    "2. Second item\n",
    "> 1. Subitem 1\n",
    ">> 1. Susubbitem 1\n",
    ">> 2. Susubbitem 2\n",
    "> 2. Subitem 2\n",
    ">> 1. Susubbitem 1\n",
    ">> 2. Susubbitem 2\n",
    ">> 2. Susubbitem 2\n",
    "3. Third item\n",
    "<br>\n",
    "\n",
    "Example-2:<br>\n",
    "1\\. Main list\\<br><br>\n",
    "a. Sub-list\\<br><br>\n",
    "b. sub list\\<br><br>\n",
    "2\\. Main list\\<br><br>\n",
    "Returns:\n",
    "1. Main list<br>\n",
    "a. Sub-list<br>\n",
    "b. sub list<br>\n",
    "2. Main list"
   ]
  },
  {
   "cell_type": "markdown",
   "metadata": {},
   "source": [
    "### Mathematical Symbols\n",
    "Use Latex style formulas.<br>\n",
    "Inline formulas: Use \\$ <br>\n",
    "Example: \\$x + y = z\\$ returns $x + y = z$<br>\n",
    "Display formulas: Use \\$$. Example: \\$$x + y = z\\$$ returns <br>\n",
    "$$x + y = z$$"
   ]
  },
  {
   "cell_type": "markdown",
   "metadata": {},
   "source": [
    "### Code highlight\n",
    "1. Inline Code: \\`inline code\\`. Example: \"This is the \\`inline code\\` format\" returns \"This is the `inline code` format\".<br>\n",
    "<font color='red'>Note:</font> \\` is backtick, the character under the Esc key on the keyboard.\n",
    "2. Block code: Use the following format to highlight a code inside a markdown cell:<br>\n",
    "\\`\\`\\`LANGUAGE<br>\n",
    "code<br>\n",
    "\\`\\`\\`\n",
    "Where LANGUAGE is the language of the code that you want to be highlighted.\n",
    "\n",
    "Example-1:<br>\n",
    "\\`\\`\\`python<br>\n",
    "print(\"Hello Word!\")<br>\n",
    "\\`\\`\\`<br>\n",
    "returns\n",
    "```python\n",
    "print(\"Hello Word!\")\n",
    "```\n",
    "\n",
    "Example-2:<br>\n",
    "\\`\\`\\`bash<br>\n",
    "pip install numpy<br>\n",
    "\\`\\`\\`<br>\n",
    "returns\n",
    "```bash\n",
    "pip install numpy\n",
    "```\n",
    "\n",
    "<font color='red'>Note:</font> You may need a different name for shell scripts depending on the environment, i.e. console, shell, sh, and zsh.\n",
    "\n",
    "Some other common lanuages are c, cpp, csharp, java, html, js, php, xml, sql, ..."
   ]
  },
  {
   "cell_type": "markdown",
   "metadata": {},
   "source": [
    "### Tables\n",
    "A simple table:<br>\n",
    "\\|&nbsp;This&nbsp;&nbsp;&nbsp;&nbsp;&nbsp;\\|&nbsp;is&nbsp;&nbsp;&nbsp;&nbsp;&nbsp;&nbsp;&nbsp;\\|&nbsp;a&nbsp;&nbsp;&nbsp;&nbsp;&nbsp;&nbsp;&nbsp;&nbsp;&nbsp;&nbsp;&nbsp;&nbsp;\\|<br>\n",
    "\\|&nbsp;---&nbsp;&nbsp;&nbsp;&nbsp;&nbsp;&nbsp;&nbsp;\\|&nbsp;---&nbsp;&nbsp;&nbsp;&nbsp;&nbsp;\\|&nbsp;---&nbsp;&nbsp;&nbsp;&nbsp;&nbsp;&nbsp;&nbsp;&nbsp;&nbsp;&nbsp;\\|<br>\n",
    "\\|&nbsp;simple&nbsp;\\|&nbsp;table&nbsp;\\|&nbsp;example&nbsp;\\|<br>\n",
    "results:\n",
    "| This   | is   | a      |\n",
    "| ---    | ---  | ---    |\n",
    "| simple | table| example|\n",
    "\n",
    "The first line of a table forms the head of the table. It is separated from the rest of the data by a line of dashes.\n",
    "\n",
    "Only one dash is sufficient to specify the line.<br>\n",
    "The table columns do not have to align in the un-rendered text, but it improves readability of the doc.<br>\n",
    "For example, The above mentioned example and the following are the same in the rendered markdown:<br>\n",
    "\\|This\\|is\\|a\\|<br>\n",
    "\\|-\\|-\\|-\\|<br>\n",
    "\\|simple\\|table\\|example\\|<br>\n",
    "\n",
    "You can use colon charachter (:) in the line following the head to specify the text alignment in the table.<br>\n",
    "If the colon is located at the left of the line of dashes, the data is rendered left-aligned. (This is also the default behaviour)<br>\n",
    "If the colon is located at the right of the line of dashes, the data is rendered right-aligned.<br>\n",
    "If the rendering hint is placed on both sides of the dashed line, the data is rendered as centered. Example:<br>\n",
    "\\|This\\|is\\|a\\|<br>\n",
    "\\|:-:\\|:-:\\|:-:\\|<br>\n",
    "\\|simple\\|table\\|example\\|<br>\n",
    "Results:\n",
    "|This|is|a|\n",
    "|:-:|:-:|:-:|\n",
    "|simple|table|example|"
   ]
  },
  {
   "cell_type": "markdown",
   "metadata": {},
   "source": [
    "### Links\n",
    "Use \\[Link text\\](Address \"optional tooltip\") to create a hyperlink in you text.<br>\n",
    "Example:<br>\n",
    "For more information \\[click here\\](https://www.modares.ac.ir/~homaei \"Hossein Homaei Homepage\") <br>\n",
    "Results:\n",
    "For more information [click here](https://www.modares.ac.ir/~homaei \"Hossein Homaei Homepage\")"
   ]
  },
  {
   "cell_type": "markdown",
   "metadata": {},
   "source": []
  }
 ],
 "metadata": {
  "language_info": {
   "name": "python"
  }
 },
 "nbformat": 4,
 "nbformat_minor": 2
}
