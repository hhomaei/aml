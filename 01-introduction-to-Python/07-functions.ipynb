{
 "cells": [
  {
   "cell_type": "markdown",
   "metadata": {},
   "source": [
    "# Functions\n",
    "function is a block of code which only runs when it is called."
   ]
  },
  {
   "cell_type": "markdown",
   "metadata": {},
   "source": [
    "## Define & Use"
   ]
  },
  {
   "cell_type": "markdown",
   "metadata": {},
   "source": [
    "### Simple"
   ]
  },
  {
   "cell_type": "code",
   "execution_count": 1,
   "metadata": {},
   "outputs": [
    {
     "name": "stdout",
     "output_type": "stream",
     "text": [
      "Hello Hossein\n"
     ]
    }
   ],
   "source": [
    "# In Python, we do not use curly brackets, we use identation\n",
    "def sayHello(name):\n",
    "    print(f\"Hello {name}\")\n",
    "\n",
    "# Usage\n",
    "sayHello('Hossein')"
   ]
  },
  {
   "cell_type": "markdown",
   "metadata": {},
   "source": [
    "### Default arguments"
   ]
  },
  {
   "cell_type": "code",
   "execution_count": 9,
   "metadata": {},
   "outputs": [
    {
     "name": "stdout",
     "output_type": "stream",
     "text": [
      "Hello Ali\n",
      "Hello Hossein\n"
     ]
    }
   ],
   "source": [
    "# Create a function with default arguments\n",
    "def sayHelloDefault(name = 'Ali'):\n",
    "    print(f\"Hello {name}\")\n",
    "\n",
    "# Usage\n",
    "sayHelloDefault()\n",
    "sayHelloDefault('Hossein')"
   ]
  },
  {
   "cell_type": "markdown",
   "metadata": {},
   "source": [
    "### Keyword Arguments"
   ]
  },
  {
   "cell_type": "code",
   "execution_count": 10,
   "metadata": {},
   "outputs": [
    {
     "name": "stdout",
     "output_type": "stream",
     "text": [
      "Hello Hossein Homaei\n",
      "Hello Hossein Homaei\n",
      "Hello Hossein Homaei\n"
     ]
    }
   ],
   "source": [
    "# A name-value pair that you pass to a function\n",
    "#Keyword arguments free you from having to worry about correctly ordering your arguments in the function call\n",
    "def sayHelloOrder(first_name, sur_name):\n",
    "    print(f\"Hello {first_name} {sur_name}\")\n",
    "\n",
    "# The following three function calls do the same:\n",
    "sayHelloOrder('Hossein', 'Homaei')\n",
    "sayHelloOrder(first_name = 'Hossein', sur_name ='Homaei')\n",
    "sayHelloOrder(sur_name ='Homaei', first_name = 'Hossein')"
   ]
  },
  {
   "cell_type": "markdown",
   "metadata": {},
   "source": [
    "### Return values"
   ]
  },
  {
   "cell_type": "code",
   "execution_count": 11,
   "metadata": {},
   "outputs": [
    {
     "name": "stdout",
     "output_type": "stream",
     "text": [
      "5\n"
     ]
    }
   ],
   "source": [
    "# Return values\n",
    "def getSum(num1, num2):\n",
    "    total = num1 + num2\n",
    "    return total\n",
    "print(getSum(2, 3))"
   ]
  },
  {
   "cell_type": "code",
   "execution_count": 6,
   "metadata": {},
   "outputs": [
    {
     "name": "stdout",
     "output_type": "stream",
     "text": [
      "{'first': 'Hossein', 'last': 'Homaei'}\n"
     ]
    }
   ],
   "source": [
    "# Returning a Dictionary\n",
    "def build_person(first_name, last_name):\n",
    "    person = {'first': first_name, 'last': last_name}\n",
    "    return person\n",
    "print(build_person('Hossein', 'Homaei'))"
   ]
  },
  {
   "cell_type": "markdown",
   "metadata": {},
   "source": [
    "### Optional arguments"
   ]
  },
  {
   "cell_type": "code",
   "execution_count": 12,
   "metadata": {},
   "outputs": [
    {
     "name": "stdout",
     "output_type": "stream",
     "text": [
      "Hossein Al Homaei\n",
      "Hossein Homaei\n"
     ]
    }
   ],
   "source": [
    "#Making an Argument Optional\n",
    "def get_formatted_name(first_name, last_name, middle_name=''):\n",
    "    \"\"\"Get the first and last name and optionally the middle name;\n",
    "    Return a full name, neatly formatted.\"\"\"\n",
    "    if middle_name:\n",
    "        full_name = f\"{first_name} {middle_name} {last_name}\"\n",
    "    else:\n",
    "        full_name = f\"{first_name} {last_name}\"\n",
    "    return full_name.title()\n",
    "print(get_formatted_name('Hossein', 'Homaei', 'al'))\n",
    "print(get_formatted_name('Hossein', 'Homaei'))"
   ]
  },
  {
   "cell_type": "markdown",
   "metadata": {},
   "source": [
    "### Variable number of arguments\n",
    "Passing an arbitrary number of arguments<br>\n",
    "Application: you won’t know ahead of time how many arguments a function needs to accept.<br>\n",
    "The asterisk before the parameter name tells Python to make a tuple containing all the values this function receives<br>\n",
    "<b>Note:</b> The parameter that accepts an arbitrary number of arguments must be placed last in the function definition."
   ]
  },
  {
   "cell_type": "code",
   "execution_count": 13,
   "metadata": {},
   "outputs": [
    {
     "name": "stdout",
     "output_type": "stream",
     "text": [
      "\n",
      "Making a 16-inch pizza with the following toppings:\n",
      "- pepperoni\n",
      "\n",
      "Making a 12-inch pizza with the following toppings:\n",
      "- mushrooms\n",
      "- green peppers\n",
      "- extra cheese\n"
     ]
    }
   ],
   "source": [
    "def make_pizza(size, *toppings):\n",
    "   print(f\"\\nMaking a {size}-inch pizza with the following toppings:\")\n",
    "   for topping in toppings:\n",
    "       print(f\"- {topping}\")\n",
    "make_pizza(16, 'pepperoni')\n",
    "make_pizza(12, 'mushrooms', 'green peppers', 'extra cheese')"
   ]
  },
  {
   "cell_type": "markdown",
   "metadata": {},
   "source": [
    "Accept an arbitrary number of arguments which you don’t know the kinds:<br>\n",
    "In this case, you can write functions that accept as many key-value pairs as the calling statement provides.<br>\n",
    "Use double asterisks before a parameter => A dictionary will be created"
   ]
  },
  {
   "cell_type": "code",
   "execution_count": 14,
   "metadata": {},
   "outputs": [
    {
     "name": "stdout",
     "output_type": "stream",
     "text": [
      "{'location': 'princeton', 'field': 'physics', 'first_name': 'albert', 'last_name': 'einstein'}\n"
     ]
    }
   ],
   "source": [
    "def build_profile(first, last, **user_info):\n",
    "    user_info['first_name'] = first\n",
    "    user_info['last_name'] = last\n",
    "    return user_info\n",
    "user_profile = build_profile('albert', 'einstein', location ='princeton', field ='physics')\n",
    "print(user_profile)"
   ]
  },
  {
   "cell_type": "markdown",
   "metadata": {},
   "source": [
    "## Docstring\n",
    "Use 'docstring' to describe what the function does, the arguments it needs, and the kind of value it returns.<br>\n",
    "\n",
    "What is docstrring?<br>\n",
    "A string that occurs as the first statement in a module, function, class, or method definition.<br>\n",
    "Such a docstring becomes the \\_\\_doc\\_\\_ special attribute of that object.<br>\n",
    "When Python generates documentation for the functions in your programs, it looks for a string immediately after the function's definition.<br>\n",
    "These strings are usually enclosed in triple quotes, which lets you write multiple lines.<br><br>\n",
    "<i>Example:</i><br>\n",
    "\"\"\"<br>\n",
    "Get the first and last name and optionally the middle name;<br>\n",
    "Return a full name, neatly formatted.<br>\n",
    "\"\"\"<br><br>\n",
    "\n",
    "<b>Notes:</b>  Use r\"\"\"raw triple double quotes\"\"\" if you use any backslashes in your docstrings. \n"
   ]
  },
  {
   "cell_type": "markdown",
   "metadata": {},
   "source": [
    "## Test"
   ]
  },
  {
   "cell_type": "code",
   "execution_count": 19,
   "metadata": {},
   "outputs": [],
   "source": [
    "formatted_name = get_formatted_name('Ali', 'Ahmadi', 'yar')\n",
    "assert formatted_name == 'Ali Yar Ahmadi'\n",
    "#assert formatted_name == 'Ali Ahmadi'"
   ]
  },
  {
   "cell_type": "markdown",
   "metadata": {},
   "source": [
    "Some usual types of assertions:\n",
    "- Check for equality:\n",
    ">- assert a == b\n",
    ">- assert a != b\n",
    "- Check a boolean condition:\n",
    ">- assert a\n",
    ">- assert not a\n",
    "- Check list elemnts\n",
    ">- assert element in list\n",
    ">- assert element not in list\n"
   ]
  },
  {
   "cell_type": "markdown",
   "metadata": {},
   "source": [
    "## Lambda function\n",
    "\n",
    " Lambda function is a small anonymous function<br>\n",
    " Can take <b>any number of arguments</b>, but can have <b>only one expression</b>."
   ]
  },
  {
   "cell_type": "code",
   "execution_count": 16,
   "metadata": {},
   "outputs": [
    {
     "name": "stdout",
     "output_type": "stream",
     "text": [
      "7\n"
     ]
    }
   ],
   "source": [
    "calculateSum = lambda num1, num2: num1 + num2\n",
    "print(calculateSum(3, 4))"
   ]
  },
  {
   "cell_type": "markdown",
   "metadata": {},
   "source": [
    "## Extra\n",
    "Preventing a function from modifying a list:<br>\n",
    "send a copy of a list to a function like this: function_name(list_name[:])"
   ]
  },
  {
   "cell_type": "code",
   "execution_count": 20,
   "metadata": {},
   "outputs": [
    {
     "name": "stdout",
     "output_type": "stream",
     "text": [
      "Printing model: dodecahedron\n",
      "Printing model: robot pendant\n",
      "Printing model: phone case\n",
      "Printing model: dodecahedron\n",
      "Printing model: robot pendant\n",
      "Printing model: phone case\n",
      "The list is empty\n"
     ]
    }
   ],
   "source": [
    "def print_models(unprinted_designs, completed_models):\n",
    "    if len(unprinted_designs) == 0:\n",
    "        print(\"The list is empty\")\n",
    "    while unprinted_designs:\n",
    "        current_design = unprinted_designs.pop()\n",
    "        print(f\"Printing model: {current_design}\")\n",
    "        completed_models.append(current_design)\n",
    "unprinted_designs = ['phone case', 'robot pendant', 'dodecahedron']\n",
    "completed_models = []\n",
    "print_models(unprinted_designs[:], completed_models)\n",
    "print_models(unprinted_designs, completed_models)\n",
    "print_models(unprinted_designs, completed_models)"
   ]
  }
 ],
 "metadata": {
  "kernelspec": {
   "display_name": "Python 3",
   "language": "python",
   "name": "python3"
  },
  "language_info": {
   "codemirror_mode": {
    "name": "ipython",
    "version": 3
   },
   "file_extension": ".py",
   "mimetype": "text/x-python",
   "name": "python",
   "nbconvert_exporter": "python",
   "pygments_lexer": "ipython3",
   "version": "3.12.1"
  }
 },
 "nbformat": 4,
 "nbformat_minor": 2
}
