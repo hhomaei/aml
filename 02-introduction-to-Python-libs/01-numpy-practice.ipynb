{
 "cells": [
  {
   "cell_type": "markdown",
   "metadata": {},
   "source": [
    "# Numpy\n",
    "Numpy is an important scientific package for working with data. <br>\n",
    "Many other packages are developed based on the numpy package. <br>\n",
    "<br>\n",
    "To install numpy, use the pip command:<br>\n",
    "```bash\n",
    "pip install numpy\n",
    "```\n"
   ]
  },
  {
   "cell_type": "code",
   "execution_count": 287,
   "metadata": {},
   "outputs": [],
   "source": [
    "import numpy as np"
   ]
  },
  {
   "cell_type": "markdown",
   "metadata": {},
   "source": [
    "## Array definition\n",
    "An array is a ndarrays objects. <br>\n",
    "numpy arrays are defined as lists or lists of lists"
   ]
  },
  {
   "cell_type": "code",
   "execution_count": 288,
   "metadata": {},
   "outputs": [
    {
     "name": "stdout",
     "output_type": "stream",
     "text": [
      "a = [[1 2]\n",
      " [3 4]] \n",
      "data type: int32\n",
      "dimention: 2\n"
     ]
    }
   ],
   "source": [
    "a = np.array([[1,2], [3,4]])\n",
    "print (f\"a = {a} \\ndata type: {a.dtype}\\ndimention: {a.ndim}\") #data type of elements and Number of array dimensions"
   ]
  },
  {
   "cell_type": "markdown",
   "metadata": {},
   "source": [
    "You can also define a 2-dimensional array as a matrix. <br>\n",
    "Numpy matrices are strictly 2-dimensional, while numpy arrays (ndarrays) are N-dimensional.<br>\n",
    "Matrix objects are a subclass of ndarray, so they inherit all the attributes and methods of ndarrays.<br>\n",
    "Using ndarrays is prefered because it is more general than matrix.\n"
   ]
  },
  {
   "cell_type": "code",
   "execution_count": 289,
   "metadata": {},
   "outputs": [
    {
     "data": {
      "text/plain": [
       "matrix([[1, 2],\n",
       "        [3, 4]])"
      ]
     },
     "execution_count": 289,
     "metadata": {},
     "output_type": "execute_result"
    }
   ],
   "source": [
    "b = np.matrix([[1,2], [3,4]])\n",
    "b"
   ]
  },
  {
   "cell_type": "markdown",
   "metadata": {},
   "source": [
    "Define special kinds of arrays:"
   ]
  },
  {
   "cell_type": "code",
   "execution_count": 290,
   "metadata": {},
   "outputs": [
    {
     "data": {
      "text/plain": [
       "array([[1., 1., 1.],\n",
       "       [1., 1., 1.],\n",
       "       [1., 1., 1.]])"
      ]
     },
     "execution_count": 290,
     "metadata": {},
     "output_type": "execute_result"
    }
   ],
   "source": [
    "# Define all-ones array\n",
    "x = np.ones((3, 3))\n",
    "x"
   ]
  },
  {
   "cell_type": "code",
   "execution_count": 291,
   "metadata": {},
   "outputs": [
    {
     "data": {
      "text/plain": [
       "array([[[0., 0., 0., 0.],\n",
       "        [0., 0., 0., 0.],\n",
       "        [0., 0., 0., 0.]],\n",
       "\n",
       "       [[0., 0., 0., 0.],\n",
       "        [0., 0., 0., 0.],\n",
       "        [0., 0., 0., 0.]]])"
      ]
     },
     "execution_count": 291,
     "metadata": {},
     "output_type": "execute_result"
    }
   ],
   "source": [
    "# Define all-zeros array\n",
    "np.zeros((2, 3, 4))"
   ]
  },
  {
   "cell_type": "code",
   "execution_count": 292,
   "metadata": {},
   "outputs": [
    {
     "data": {
      "text/plain": [
       "array([0, 1, 2, 3, 4, 5, 6, 7, 8, 9])"
      ]
     },
     "execution_count": 292,
     "metadata": {},
     "output_type": "execute_result"
    }
   ],
   "source": [
    "# Generate an integer vector containing a sequence number from 0 to n-1\n",
    "np.arange(10)"
   ]
  },
  {
   "cell_type": "code",
   "execution_count": 293,
   "metadata": {},
   "outputs": [
    {
     "data": {
      "text/plain": [
       "array([1, 4, 7])"
      ]
     },
     "execution_count": 293,
     "metadata": {},
     "output_type": "execute_result"
    }
   ],
   "source": [
    "# Generate an integer vector using a sequence number from start (inclusive) to stop (exclusive), in steps\n",
    "np.arange(1, 10, 3)"
   ]
  },
  {
   "cell_type": "code",
   "execution_count": 294,
   "metadata": {},
   "outputs": [
    {
     "data": {
      "text/plain": [
       "array([ 1. ,  5.5, 10. ])"
      ]
     },
     "execution_count": 294,
     "metadata": {},
     "output_type": "execute_result"
    }
   ],
   "source": [
    "# Generate a float sequence over a specified interval\n",
    "np.linspace(1, 10, 3) # start (inclusive), stop (inclusive), number of elements"
   ]
  },
  {
   "cell_type": "code",
   "execution_count": 295,
   "metadata": {},
   "outputs": [
    {
     "data": {
      "text/plain": [
       "array([[ 0,  1,  2,  3],\n",
       "       [ 4,  5,  6,  7],\n",
       "       [ 8,  9, 10, 11]])"
      ]
     },
     "execution_count": 295,
     "metadata": {},
     "output_type": "execute_result"
    }
   ],
   "source": [
    "# Generate an array using a sequence number auto shape\n",
    "reshaped = np.arange(12).reshape((3,4))\n",
    "reshaped"
   ]
  },
  {
   "cell_type": "code",
   "execution_count": 296,
   "metadata": {},
   "outputs": [
    {
     "data": {
      "text/plain": [
       "array([ 0,  1,  2,  3,  4,  5,  6,  7,  8,  9, 10, 11])"
      ]
     },
     "execution_count": 296,
     "metadata": {},
     "output_type": "execute_result"
    }
   ],
   "source": [
    "# Revert the reshaping\n",
    "#   Method-1:\n",
    "reflat = reshaped.reshape(-1)\n",
    "reflat"
   ]
  },
  {
   "cell_type": "code",
   "execution_count": 297,
   "metadata": {},
   "outputs": [
    {
     "name": "stdout",
     "output_type": "stream",
     "text": [
      "[100   1   2   3   4   5   6   7   8   9  10  11]\n",
      "[[100   1   2   3]\n",
      " [  4   5   6   7]\n",
      " [  8   9  10  11]]\n"
     ]
    }
   ],
   "source": [
    "# reshape() returns a view of the original data. Thus, if you modify the returned value, the original one is also changed.\n",
    "reflat[0] = 100\n",
    "print(reflat)\n",
    "print(reshaped)"
   ]
  },
  {
   "cell_type": "code",
   "execution_count": 298,
   "metadata": {},
   "outputs": [
    {
     "data": {
      "text/plain": [
       "array([100,   1,   2,   3,   4,   5,   6,   7,   8,   9,  10,  11])"
      ]
     },
     "execution_count": 298,
     "metadata": {},
     "output_type": "execute_result"
    }
   ],
   "source": [
    "#   Mthod-2:\n",
    "reflat = reshaped.flatten()\n",
    "reflat"
   ]
  },
  {
   "cell_type": "code",
   "execution_count": 299,
   "metadata": {},
   "outputs": [
    {
     "name": "stdout",
     "output_type": "stream",
     "text": [
      "[100 200   2   3   4   5   6   7   8   9  10  11]\n",
      "[[100   1   2   3]\n",
      " [  4   5   6   7]\n",
      " [  8   9  10  11]]\n"
     ]
    }
   ],
   "source": [
    "# flatten() returns a copy of the original data. Thus, if you modify the returned value, the original one is not changed.\n",
    "reflat[1] = 200\n",
    "print(reflat)\n",
    "print(reshaped)"
   ]
  },
  {
   "cell_type": "code",
   "execution_count": 300,
   "metadata": {},
   "outputs": [
    {
     "data": {
      "text/plain": [
       "array([[2, 0, 1, 3],\n",
       "       [4, 1, 4, 2],\n",
       "       [0, 1, 4, 1]])"
      ]
     },
     "execution_count": 300,
     "metadata": {},
     "output_type": "execute_result"
    }
   ],
   "source": [
    "# Define a random array\n",
    "r1 = np.random.randint(0, 5, (3,4))\n",
    "r1"
   ]
  },
  {
   "cell_type": "code",
   "execution_count": 301,
   "metadata": {},
   "outputs": [
    {
     "data": {
      "text/plain": [
       "array([[0.76401389, 0.88997464, 0.32378277],\n",
       "       [0.10400008, 0.53709489, 0.11336425]])"
      ]
     },
     "execution_count": 301,
     "metadata": {},
     "output_type": "execute_result"
    }
   ],
   "source": [
    "# Define a random array\n",
    "np.random.rand(2, 3)"
   ]
  },
  {
   "cell_type": "code",
   "execution_count": 302,
   "metadata": {},
   "outputs": [
    {
     "name": "stdout",
     "output_type": "stream",
     "text": [
      "My random array =  [[3.53174954 4.74151881 2.27242666]\n",
      " [1.0331061  1.66060189 3.04284131]]\n"
     ]
    }
   ],
   "source": [
    "# Generate a randomm array using uniform distribution\n",
    "# Parameters: Min value (inclusive),  Max value (inclusive), array shape\n",
    "myRandomArray = np.random.uniform(1, 5, (2, 3)) # Min value = 1,  Max value = 5, shape = 2 \\times 3\n",
    "print(\"My random array = \", myRandomArray)"
   ]
  },
  {
   "cell_type": "code",
   "execution_count": 303,
   "metadata": {},
   "outputs": [
    {
     "name": "stdout",
     "output_type": "stream",
     "text": [
      "My random array =  [[ 0.72539325  0.4144149   1.39705243]\n",
      " [ 0.15674227 -1.8433776  -1.28457246]]\n"
     ]
    }
   ],
   "source": [
    "# Generate a randomm matrix using normal distribution (mean=0, stdev=1).\n",
    "myRandomArray = np.random.standard_normal((2, 3))\n",
    "print(\"My random array = \", myRandomArray)"
   ]
  },
  {
   "cell_type": "code",
   "execution_count": 304,
   "metadata": {},
   "outputs": [
    {
     "name": "stdout",
     "output_type": "stream",
     "text": [
      "unique values:  [1 2 3 4]\n"
     ]
    }
   ],
   "source": [
    "# Sets as arrays\n",
    "aa = np.array([1,2,3,4,1,3])\n",
    "print(\"unique values: \", np.unique(aa))"
   ]
  },
  {
   "cell_type": "code",
   "execution_count": 305,
   "metadata": {},
   "outputs": [
    {
     "name": "stdout",
     "output_type": "stream",
     "text": [
      "The first set= [1 2 3 4 1 3]\n",
      "The 2nd array = [7 8 9 1 3]\n",
      "union =  [1 2 3 4 7 8 9]\n",
      "Intersection =  [1 3]\n"
     ]
    }
   ],
   "source": [
    "# Union and Intersection of sets as arrays\n",
    "bb = np.array([7,8,9,1,3])\n",
    "print(\"The first set=\", aa)\n",
    "print(\"The 2nd array =\", bb)\n",
    "print(\"union = \", np.union1d(aa, bb))\n",
    "print(\"Intersection = \", np.intersect1d(aa, bb))"
   ]
  },
  {
   "cell_type": "markdown",
   "metadata": {},
   "source": [
    "## Shape and type"
   ]
  },
  {
   "cell_type": "code",
   "execution_count": 306,
   "metadata": {},
   "outputs": [
    {
     "name": "stdout",
     "output_type": "stream",
     "text": [
      "[[1 2]\n",
      " [3 4]]\n"
     ]
    },
    {
     "data": {
      "text/plain": [
       "4"
      ]
     },
     "execution_count": 306,
     "metadata": {},
     "output_type": "execute_result"
    }
   ],
   "source": [
    "# Get size\n",
    "print(a)\n",
    "np.size(a)"
   ]
  },
  {
   "cell_type": "code",
   "execution_count": 307,
   "metadata": {},
   "outputs": [
    {
     "data": {
      "text/plain": [
       "(2, 2)"
      ]
     },
     "execution_count": 307,
     "metadata": {},
     "output_type": "execute_result"
    }
   ],
   "source": [
    "# Get shape\n",
    "np.shape(a)"
   ]
  },
  {
   "cell_type": "markdown",
   "metadata": {},
   "source": [
    "Numpy data types and their corresponding types in C are as follows:<br>\n",
    "| NumPy   | Equivalent C type                                                                 |\n",
    "|:--------|:-------------------------------|\n",
    "| float64 | double                         |\n",
    "| float32 | float                          |\n",
    "| int64   | long long [–2^63, 2^63−1]      |\n",
    "| uint64  | unsigned long long [0, 2^64−1] |\n",
    "| int32   | long [–2^31, 2^31−1]           |\n",
    "| uint32  | unsigned long [0, 2^32−1]      |\n",
    "| uint8   | unsigned char [0, 255]         |\n",
    "\n",
    "In addition to numerical types, NumPy also supports strings\n",
    "- unicode strings, via the numpy.str_ dtype (U character code), \n",
    "> - null-terminated byte sequences via numpy.bytes_ (S character code), and \n",
    "> - arbitrary byte sequences, via numpy.void (V character code).\n",
    "\n",
    "Discussion about these types is out of the scope of this course!"
   ]
  },
  {
   "cell_type": "code",
   "execution_count": 308,
   "metadata": {},
   "outputs": [
    {
     "name": "stdout",
     "output_type": "stream",
     "text": [
      "z =  [1 2 3 4] data type:  uint8\n"
     ]
    }
   ],
   "source": [
    "z = np.array([1,2,3,4], dtype=\"uint8\")\n",
    "print (\"z = \", z, \"data type: \", z.dtype)"
   ]
  },
  {
   "cell_type": "markdown",
   "metadata": {},
   "source": [
    "## Indexing"
   ]
  },
  {
   "cell_type": "code",
   "execution_count": 309,
   "metadata": {},
   "outputs": [
    {
     "name": "stdout",
     "output_type": "stream",
     "text": [
      "a = \n",
      " [[1 2]\n",
      " [3 4]]\n",
      "a[0, 1]=  2\n",
      "a[1]=  [3 4]\n",
      "a[0,0], a[1,0], a[1,1] =  [1 3 4]\n",
      "a[[0,1,1], [0,0,1]] =  [1 3 4]\n"
     ]
    }
   ],
   "source": [
    "print(\"a = \\n\", a)\n",
    "print(\"a[0, 1]= \", a[0,1])\n",
    "print(\"a[1]= \", a[1])\n",
    "print(\"a[0,0], a[1,0], a[1,1] = \", np.array([a[0,0], a[1,0], a[1,1]]))\n",
    "print(\"a[[0,1,1], [0,0,1]] = \", np.array(a[[0,1,1], [0,0,1]])) # same as previous"
   ]
  },
  {
   "cell_type": "markdown",
   "metadata": {},
   "source": [
    "## Slicing"
   ]
  },
  {
   "cell_type": "code",
   "execution_count": 310,
   "metadata": {},
   "outputs": [
    {
     "name": "stdout",
     "output_type": "stream",
     "text": [
      "b=  [[ 1  2  3]\n",
      " [ 4  5  6]\n",
      " [ 7  8  9]\n",
      " [10 11 12]]\n",
      "b[1,:]=  [4 5 6]\n",
      "b[:,1]=  [ 2  5  8 11]\n",
      "b[:2,:]=  [[1 2 3]\n",
      " [4 5 6]]\n",
      "b[:2,:2]=  [[1 2]\n",
      " [4 5]]\n",
      "b[:1,:1]=  [[1]]\n"
     ]
    }
   ],
   "source": [
    "b = np.arange(1, 13).reshape((4,3))\n",
    "print(\"b= \", b)\n",
    "print(\"b[1,:]= \", b[1,:])\n",
    "print(\"b[:,1]= \", b[:,1])\n",
    "print(\"b[:2,:]= \", b[:2,:])\n",
    "print(\"b[:2,:2]= \", b[:2,:2])\n",
    "print(\"b[:1,:1]= \", b[:1,:1])"
   ]
  },
  {
   "cell_type": "markdown",
   "metadata": {},
   "source": [
    "## Stepping"
   ]
  },
  {
   "cell_type": "code",
   "execution_count": 311,
   "metadata": {},
   "outputs": [
    {
     "name": "stdout",
     "output_type": "stream",
     "text": [
      "b=  [[ 1  2  3]\n",
      " [ 4  5  6]\n",
      " [ 7  8  9]\n",
      " [10 11 12]]\n",
      "b[::2]=  [[1 2 3]\n",
      " [7 8 9]]\n",
      "b[::3]=  [[ 1  2  3]\n",
      " [10 11 12]]\n",
      "b[::-2]=  [[10 11 12]\n",
      " [ 4  5  6]]\n"
     ]
    }
   ],
   "source": [
    "print(\"b= \", b)\n",
    "# Stepping in rows\n",
    "print(\"b[::2]= \", b[::2]) # The 3rd number is the step\n",
    "print(\"b[::3]= \", b[::3])\n",
    "print(\"b[::-2]= \", b[::-2]) # reverse order + steps"
   ]
  },
  {
   "cell_type": "code",
   "execution_count": 312,
   "metadata": {},
   "outputs": [
    {
     "name": "stdout",
     "output_type": "stream",
     "text": [
      "b=  [[ 1  2  3]\n",
      " [ 4  5  6]\n",
      " [ 7  8  9]\n",
      " [10 11 12]]\n",
      "b[:, ::2]=  [[ 1  3]\n",
      " [ 4  6]\n",
      " [ 7  9]\n",
      " [10 12]]\n"
     ]
    }
   ],
   "source": [
    "print(\"b= \", b)\n",
    "# Stepping in columns\n",
    "print(\"b[:, ::2]= \", b[:, ::2])"
   ]
  },
  {
   "cell_type": "code",
   "execution_count": 313,
   "metadata": {},
   "outputs": [
    {
     "name": "stdout",
     "output_type": "stream",
     "text": [
      "b=  [[ 1  2  3]\n",
      " [ 4  5  6]\n",
      " [ 7  8  9]\n",
      " [10 11 12]]\n",
      "b[::-2, ::2]=  [[10 12]\n",
      " [ 4  6]]\n"
     ]
    }
   ],
   "source": [
    "print(\"b= \", b)\n",
    "# Stepping in both sides\n",
    "print(\"b[::-2, ::2]= \", b[::-2, ::2])"
   ]
  },
  {
   "cell_type": "markdown",
   "metadata": {},
   "source": [
    "## Member modification"
   ]
  },
  {
   "cell_type": "code",
   "execution_count": 314,
   "metadata": {},
   "outputs": [
    {
     "name": "stdout",
     "output_type": "stream",
     "text": [
      "q=\n",
      " [[[ 0  1]\n",
      "  [ 2  3]\n",
      "  [ 4  5]]\n",
      "\n",
      " [[ 6  7]\n",
      "  [ 8  9]\n",
      "  [10 11]]\n",
      "\n",
      " [[12 13]\n",
      "  [14 15]\n",
      "  [16 17]]\n",
      "\n",
      " [[18 19]\n",
      "  [20 21]\n",
      "  [22 23]]]\n"
     ]
    }
   ],
   "source": [
    "q = np.arange(24).reshape((4,3,2))\n",
    "print(\"q=\\n\", q)"
   ]
  },
  {
   "cell_type": "code",
   "execution_count": 315,
   "metadata": {},
   "outputs": [
    {
     "name": "stdout",
     "output_type": "stream",
     "text": [
      "updated q(1)=\n",
      " [[[  0   1]\n",
      "  [  2   3]\n",
      "  [  4   5]]\n",
      "\n",
      " [[ 66  77]\n",
      "  [ 88  99]\n",
      "  [100 111]]\n",
      "\n",
      " [[ 12  13]\n",
      "  [ 14  15]\n",
      "  [ 16  17]]\n",
      "\n",
      " [[ 18  19]\n",
      "  [ 20  21]\n",
      "  [ 22  23]]]\n"
     ]
    }
   ],
   "source": [
    "q[1,:,:] = [[66,77],[88,99],[100,111]]\n",
    "print(\"updated q(1)=\\n\", q)"
   ]
  },
  {
   "cell_type": "code",
   "execution_count": 316,
   "metadata": {},
   "outputs": [
    {
     "name": "stdout",
     "output_type": "stream",
     "text": [
      "updated q(2)=\n",
      " [[[  0   1]\n",
      "  [  2   3]\n",
      "  [  4   5]]\n",
      "\n",
      " [[ 66  77]\n",
      "  [ 88  99]\n",
      "  [100 111]]\n",
      "\n",
      " [[122 133]\n",
      "  [144 155]\n",
      "  [166 177]]\n",
      "\n",
      " [[ 18  19]\n",
      "  [ 20  21]\n",
      "  [ 22  23]]]\n"
     ]
    }
   ],
   "source": [
    "q[2,...] = [[122,133],[144,155],[166,177]] # ... means as many : as needed\n",
    "print(\"updated q(2)=\\n\", q)"
   ]
  },
  {
   "cell_type": "markdown",
   "metadata": {},
   "source": [
    "## Maths on array items"
   ]
  },
  {
   "cell_type": "code",
   "execution_count": 317,
   "metadata": {},
   "outputs": [
    {
     "name": "stdout",
     "output_type": "stream",
     "text": [
      "a= [[1 2]\n",
      " [3 4]]\n"
     ]
    },
    {
     "data": {
      "text/plain": [
       "array([[2, 4],\n",
       "       [6, 8]])"
      ]
     },
     "execution_count": 317,
     "metadata": {},
     "output_type": "execute_result"
    }
   ],
   "source": [
    "print(\"a=\", a)\n",
    "# Add arrays\n",
    "a + a # or np.add(a, a)"
   ]
  },
  {
   "cell_type": "code",
   "execution_count": 318,
   "metadata": {},
   "outputs": [
    {
     "data": {
      "text/plain": [
       "array([[0, 0],\n",
       "       [0, 0]])"
      ]
     },
     "execution_count": 318,
     "metadata": {},
     "output_type": "execute_result"
    }
   ],
   "source": [
    "# Subtract arrays (two ways)\n",
    "a - a # or np.subtract(a, a)"
   ]
  },
  {
   "cell_type": "code",
   "execution_count": 319,
   "metadata": {},
   "outputs": [
    {
     "data": {
      "text/plain": [
       "array([[ 1,  4],\n",
       "       [ 9, 16]])"
      ]
     },
     "execution_count": 319,
     "metadata": {},
     "output_type": "execute_result"
    }
   ],
   "source": [
    "# Element to element multiplication: [ 1*1, 2*2], [3*3, 4*4]]\n",
    "a * a # or np.multiply(a, a)"
   ]
  },
  {
   "cell_type": "code",
   "execution_count": 320,
   "metadata": {},
   "outputs": [
    {
     "name": "stdout",
     "output_type": "stream",
     "text": [
      "a / a =  [[0.5 1. ]\n",
      " [1.5 2. ]]\n",
      "a / d =  [[0.5        0.66666667]\n",
      " [0.75       0.8       ]]\n",
      "a / 2 (floor) =  [[0 1]\n",
      " [1 2]]\n"
     ]
    }
   ],
   "source": [
    "# divide each element to an scalar\n",
    "print (\"a / a = \", a / 2) # or np.divide(a, 2)\n",
    "\n",
    "# divide element-by-elemnt of two matrices\n",
    "d= np.array([[2,3],[4,5]])\n",
    "print (\"a / d = \", a / d) # or np.divide(a, d)\n",
    "\n",
    "# The largest integer smaller or equal to the division of the inputs.\n",
    "print (\"a / 2 (floor) = \", np.floor_divide(a, 2)) "
   ]
  },
  {
   "cell_type": "code",
   "execution_count": 321,
   "metadata": {},
   "outputs": [
    {
     "name": "stdout",
     "output_type": "stream",
     "text": [
      "celcius =  [-17.22222222 -11.66666667 -20.         -15.        ]\n"
     ]
    }
   ],
   "source": [
    "# Scalar to array operations\n",
    "farenheit = np.array([0, 10, -5, 4])\n",
    "celcius = (farenheit - 31) * (5/9)\n",
    "print(\"celcius = \", celcius)"
   ]
  },
  {
   "cell_type": "code",
   "execution_count": 322,
   "metadata": {},
   "outputs": [
    {
     "name": "stdout",
     "output_type": "stream",
     "text": [
      "[ True False  True False]\n"
     ]
    }
   ],
   "source": [
    "# Boolean arrays\n",
    "print(celcius < -15) # it also works for the multi-dimentional arrays in the same way"
   ]
  },
  {
   "cell_type": "markdown",
   "metadata": {},
   "source": [
    "## Matrix multiplication\n",
    "matrix product: sum of the multiplication of row elements to column element<br>\n",
    "Example: $a \\times a = [[1\\times 1 + 2\\times 3, 1\\times 2 + 2\\times 4], [3\\times 1 + 4\\times 3, 3\\times 2 + 4\\times 4]]$<br>\n",
    "The operator is @, however you can also use dot function of numpy to get the product of 2D arrays. (More explanasion is out of the scope of this course!)"
   ]
  },
  {
   "cell_type": "code",
   "execution_count": 323,
   "metadata": {},
   "outputs": [
    {
     "name": "stdout",
     "output_type": "stream",
     "text": [
      "a@a =  [[ 7 10]\n",
      " [15 22]]\n",
      "np.dot(a, a) =  [[ 7 10]\n",
      " [15 22]]\n"
     ]
    }
   ],
   "source": [
    "print(\"a@a = \", a@a)\n",
    "print(\"np.dot(a, a) = \", np.dot(a, a))"
   ]
  },
  {
   "cell_type": "markdown",
   "metadata": {},
   "source": [
    "## Matrix Inverse"
   ]
  },
  {
   "cell_type": "code",
   "execution_count": 324,
   "metadata": {},
   "outputs": [
    {
     "name": "stdout",
     "output_type": "stream",
     "text": [
      "determinant =  -306.0\n",
      "[[ 0.17647059 -0.00326797 -0.02287582]\n",
      " [ 0.05882353 -0.13071895  0.08496732]\n",
      " [-0.11764706  0.1503268   0.05228758]]\n"
     ]
    }
   ],
   "source": [
    "org = np.array([[6, 1, 1],\n",
    "              [4, -2, 5],\n",
    "              [2, 8, 7]])\n",
    "# org = np.array([[1, 2], [3, 6]]) Sample array to test zero determinant\n",
    "det = np.linalg.det(org)\n",
    "if det == 0:\n",
    "    print(\"Inverse doesn't exist. Determinant  is zero.\")\n",
    "else:\n",
    "    print(\"determinant = \", det)\n",
    "    print(np.linalg.inv(org))"
   ]
  },
  {
   "cell_type": "markdown",
   "metadata": {},
   "source": [
    "## Aggregation functions"
   ]
  },
  {
   "cell_type": "code",
   "execution_count": 325,
   "metadata": {},
   "outputs": [
    {
     "data": {
      "text/plain": [
       "10"
      ]
     },
     "execution_count": 325,
     "metadata": {},
     "output_type": "execute_result"
    }
   ],
   "source": [
    "# Sum of all elemts\n",
    "a.sum()"
   ]
  },
  {
   "cell_type": "code",
   "execution_count": 326,
   "metadata": {},
   "outputs": [
    {
     "name": "stdout",
     "output_type": "stream",
     "text": [
      "[[1 2]\n",
      " [3 4]]\n",
      "Cumulative sum of the elements in array a=  [ 1  3  6 10]\n",
      "Cumulative sum (axis=0) of the elements in array a=  [[1 2]\n",
      " [4 6]]\n",
      "Cumulative sum (axis=1) of the elements in array a=  [[1 3]\n",
      " [3 7]]\n"
     ]
    }
   ],
   "source": [
    "# Cumulative sum\n",
    "print(a)\n",
    "print (\"Cumulative sum of the elements in array a= \", a.cumsum())\n",
    "print (\"Cumulative sum (axis=0) of the elements in array a= \", a.cumsum(axis=0))\n",
    "print (\"Cumulative sum (axis=1) of the elements in array a= \", a.cumsum(axis=1))"
   ]
  },
  {
   "cell_type": "code",
   "execution_count": 327,
   "metadata": {},
   "outputs": [
    {
     "data": {
      "text/plain": [
       "24"
      ]
     },
     "execution_count": 327,
     "metadata": {},
     "output_type": "execute_result"
    }
   ],
   "source": [
    "# Multiplication of all elements: 1*2*3*4\n",
    "a.prod()"
   ]
  },
  {
   "cell_type": "code",
   "execution_count": 328,
   "metadata": {},
   "outputs": [
    {
     "name": "stdout",
     "output_type": "stream",
     "text": [
      "for a, Max = 4, Min = 1, Mean = 2.5\n"
     ]
    }
   ],
   "source": [
    "# Max, min, mean\n",
    "print (f\"for a, Max = {a.max()}, Min = {a.min()}, Mean = {a.mean()}\")"
   ]
  },
  {
   "cell_type": "markdown",
   "metadata": {},
   "source": [
    "## Filtering"
   ]
  },
  {
   "cell_type": "code",
   "execution_count": 329,
   "metadata": {},
   "outputs": [
    {
     "name": "stdout",
     "output_type": "stream",
     "text": [
      "mask =  [[False  True]\n",
      " [ True  True]]\n",
      "a > 1 mask ->  [2 3 4]\n",
      "1 < a < 3 mask ->  [2]\n"
     ]
    }
   ],
   "source": [
    "my_mask = a > 1\n",
    "print(\"mask = \", my_mask)\n",
    "print(\"a > 1 mask -> \", a[my_mask])\n",
    "my_mask = np.logical_and(a > 1, a < 3)\n",
    "print(\"1 < a < 3 mask -> \", a[my_mask])"
   ]
  },
  {
   "cell_type": "markdown",
   "metadata": {},
   "source": [
    "## Broadcasting"
   ]
  },
  {
   "cell_type": "code",
   "execution_count": 330,
   "metadata": {},
   "outputs": [
    {
     "name": "stdout",
     "output_type": "stream",
     "text": [
      "[1, 2, 3] + 5 =  [6 7 8]\n",
      "[1, 1, 1], [1, 1, 1] [1, 1, 1] + [1, 2, 3] =  [[2. 3. 4.]\n",
      " [2. 3. 4.]\n",
      " [2. 3. 4.]]\n",
      "[1], [1], [1], + [1, 2, 3] =  [[2 3 4]\n",
      " [2 3 4]\n",
      " [2 3 4]]\n"
     ]
    }
   ],
   "source": [
    "f = np.array([1, 2, 3])\n",
    "x = np.ones((3, 3))\n",
    "print(\"[1, 2, 3] + 5 = \" , f + 5)\n",
    "print(\"[1, 1, 1], [1, 1, 1] [1, 1, 1] + [1, 2, 3] = \" , x + f)\n",
    "print(\"[1], [1], [1], + [1, 2, 3] = \" , np.array([[1], [1], [1]]) + f)"
   ]
  },
  {
   "cell_type": "markdown",
   "metadata": {},
   "source": [
    "## Using arrays as polynomials"
   ]
  },
  {
   "cell_type": "code",
   "execution_count": 331,
   "metadata": {},
   "outputs": [
    {
     "name": "stdout",
     "output_type": "stream",
     "text": [
      "2^2 + 2*2 + 2 =  10\n",
      "derivation of (x^2 + 2x + 2) =  [2 2]\n",
      "Integral of (x^2 + 2x + 2) =  [0.33333333 1.         2.         0.        ]\n"
     ]
    }
   ],
   "source": [
    "# x^2 + 2x + 2\n",
    "myPoly = np.array([1, 2, 2]) # Coefficient from largest to smallest\n",
    "# Evaluate at specific value\n",
    "print(\"2^2 + 2*2 + 2 = \", np.polyval(myPoly, 2)) # 1^2 + 2*1 + 2\n",
    "print(\"derivation of (x^2 + 2x + 2) = \", np.polyder(myPoly)) # derivation(x^2 + 2x + 2) = 2x + 2\n",
    "print(\"Integral of (x^2 + 2x + 2) = \", np.polyint(myPoly)) # integral(x^2 + 2x + 2) = x^3/3 + x^2 + 2x + 0"
   ]
  },
  {
   "cell_type": "code",
   "execution_count": 332,
   "metadata": {},
   "outputs": [
    {
     "data": {
      "text/latex": [
       "$x \\mapsto \\text{2.0} + \\text{2.0}\\,x + \\text{1.0}\\,x^{2}$"
      ],
      "text/plain": [
       "Polynomial([2., 2., 1.], domain=[-1,  1], window=[-1,  1], symbol='x')"
      ]
     },
     "execution_count": 332,
     "metadata": {},
     "output_type": "execute_result"
    }
   ],
   "source": [
    "# The privious cell use and old polynomial API \n",
    "# The newer one is as follows:\n",
    "myPoly = np.polynomial.Polynomial([2, 2, 1]) # Coefficient from smallest to largest\n",
    "myPoly"
   ]
  },
  {
   "cell_type": "code",
   "execution_count": 333,
   "metadata": {},
   "outputs": [
    {
     "data": {
      "text/plain": [
       "10.0"
      ]
     },
     "execution_count": 333,
     "metadata": {},
     "output_type": "execute_result"
    }
   ],
   "source": [
    "# Evaluate at specific value\n",
    "np.polynomial.polynomial.polyval(2, np.array([2, 2, 1]))"
   ]
  },
  {
   "cell_type": "code",
   "execution_count": 334,
   "metadata": {},
   "outputs": [
    {
     "data": {
      "text/latex": [
       "$x \\mapsto \\text{2.0} + \\text{2.0}\\,x$"
      ],
      "text/plain": [
       "Polynomial([2., 2.], domain=[-1.,  1.], window=[-1.,  1.], symbol='x')"
      ]
     },
     "execution_count": 334,
     "metadata": {},
     "output_type": "execute_result"
    }
   ],
   "source": [
    "# derivation\n",
    "myPoly.deriv()"
   ]
  },
  {
   "cell_type": "code",
   "execution_count": 335,
   "metadata": {},
   "outputs": [
    {
     "data": {
      "text/latex": [
       "$x \\mapsto \\color{LightGray}{\\text{0.0}} + \\text{2.0}\\,x + \\text{1.0}\\,x^{2} + \\text{0.33333333}\\,x^{3}$"
      ],
      "text/plain": [
       "Polynomial([0.        , 2.        , 1.        , 0.33333333], domain=[-1.,  1.], window=[-1.,  1.], symbol='x')"
      ]
     },
     "execution_count": 335,
     "metadata": {},
     "output_type": "execute_result"
    }
   ],
   "source": [
    "# Integral\n",
    "myPoly.integ()"
   ]
  },
  {
   "cell_type": "code",
   "execution_count": 336,
   "metadata": {},
   "outputs": [
    {
     "name": "stdout",
     "output_type": "stream",
     "text": [
      "r1=  [[2 0 1 3]\n",
      " [4 1 4 2]\n",
      " [0 1 4 1]]\n",
      "r2=  [[2 0 1 3]\n",
      " [4 1 4 2]\n",
      " [0 1 4 1]]\n"
     ]
    }
   ],
   "source": [
    "# Save and load to/from file\n",
    "print(\"r1= \", r1)\n",
    "np.save(\"random.npy\", r1) # It is a binary file\n",
    "r2 = np.load(\"random.npy\")\n",
    "print(\"r2= \", r2)"
   ]
  },
  {
   "cell_type": "code",
   "execution_count": 337,
   "metadata": {},
   "outputs": [],
   "source": [
    "# Delete as usual\n",
    "import os\n",
    "os.remove('random.npy')"
   ]
  },
  {
   "cell_type": "markdown",
   "metadata": {},
   "source": [
    "## Others"
   ]
  },
  {
   "cell_type": "code",
   "execution_count": 338,
   "metadata": {},
   "outputs": [
    {
     "name": "stdout",
     "output_type": "stream",
     "text": [
      "sqrt of 5=  2.23606797749979\n",
      "y =  nan\n",
      "Infinity =  inf\n"
     ]
    }
   ],
   "source": [
    "# Related numpy fuctoins to the following functions were deprecated.\n",
    "# Since the functions are migrated to the standard math package, we use them as follows:\n",
    "\n",
    "# Square root\n",
    "import math\n",
    "print (\"sqrt of 5= \", math.sqrt(5))\n",
    "\n",
    "# Not a number -> application = missing values\n",
    "y = math.nan\n",
    "print(\"y = \", y)\n",
    "\n",
    "# Infinity\n",
    "print(\"Infinity = \", math.inf)\n"
   ]
  }
 ],
 "metadata": {
  "kernelspec": {
   "display_name": "Python 3",
   "language": "python",
   "name": "python3"
  },
  "language_info": {
   "codemirror_mode": {
    "name": "ipython",
    "version": 3
   },
   "file_extension": ".py",
   "mimetype": "text/x-python",
   "name": "python",
   "nbconvert_exporter": "python",
   "pygments_lexer": "ipython3",
   "version": "3.12.1"
  }
 },
 "nbformat": 4,
 "nbformat_minor": 2
}
