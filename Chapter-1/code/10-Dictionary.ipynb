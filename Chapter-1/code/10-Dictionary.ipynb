{
 "cells": [
  {
   "cell_type": "markdown",
   "metadata": {},
   "source": [
    "# Dictionary\n",
    "\n",
    " A Dictionary is a collection of key-value pairs.\n",
    "\n",
    " It is unordered, changeable, and indexed. No duplicate members."
   ]
  },
  {
   "cell_type": "markdown",
   "metadata": {},
   "source": [
    "# Create"
   ]
  },
  {
   "cell_type": "code",
   "execution_count": 30,
   "metadata": {},
   "outputs": [
    {
     "data": {
      "text/plain": [
       "({'first_name': 'Hossein', 'last_name': 'Homaei', 'age': 40},\n",
       " {'first_name': 'Ali', 'last_name': 'Alavi'})"
      ]
     },
     "execution_count": 30,
     "metadata": {},
     "output_type": "execute_result"
    }
   ],
   "source": [
    "# Method 1:\n",
    "person = {\n",
    "    'first_name': 'Hossein',\n",
    "    'last_name': 'Homaei',\n",
    "    'age': 40\n",
    "}\n",
    "empty_dictionary = {}\n",
    "# Method 2:\n",
    "person2 = dict(first_name='Ali', last_name='Alavi')\n",
    "person, person2"
   ]
  },
  {
   "cell_type": "code",
   "execution_count": 31,
   "metadata": {},
   "outputs": [
    {
     "name": "stdout",
     "output_type": "stream",
     "text": [
      "2\n"
     ]
    }
   ],
   "source": [
    "# Get length\n",
    "print(len(person2))"
   ]
  },
  {
   "cell_type": "code",
   "execution_count": 32,
   "metadata": {},
   "outputs": [
    {
     "name": "stdout",
     "output_type": "stream",
     "text": [
      "Hossein\n"
     ]
    }
   ],
   "source": [
    "# Access to the members\n",
    "print(person['first_name'])"
   ]
  },
  {
   "cell_type": "code",
   "execution_count": 33,
   "metadata": {},
   "outputs": [
    {
     "name": "stdout",
     "output_type": "stream",
     "text": [
      "[{'name': 'hossein', 'age': 40}, {'name': 'Ali', 'age': 50}]\n",
      "hossein\n"
     ]
    }
   ],
   "source": [
    "# List of dict\n",
    "people = [\n",
    "    {'name': 'hossein', 'age': 40},\n",
    "    {'name': 'Ali', 'age': 50}\n",
    "]\n",
    "\n",
    "print(people)\n",
    "print(people[0]['name'])"
   ]
  },
  {
   "cell_type": "code",
   "execution_count": 34,
   "metadata": {},
   "outputs": [
    {
     "name": "stdout",
     "output_type": "stream",
     "text": [
      "You ordered a thick-crust pizza with the following toppings:\n",
      "\tmushrooms\n",
      "\textra cheese\n"
     ]
    }
   ],
   "source": [
    "# Dictionary contains a list\n",
    "pizza = {\n",
    "    'crust': 'thick',\n",
    "    'toppings': ['mushrooms', 'extra cheese']\n",
    "}\n",
    "print(f\"You ordered a {pizza['crust']}-crust pizza \"\n",
    "      \"with the following toppings:\")\n",
    "for topping in pizza['toppings']:\n",
    "    print(f\"\\t{topping}\")"
   ]
  },
  {
   "cell_type": "code",
   "execution_count": 35,
   "metadata": {},
   "outputs": [
    {
     "name": "stdout",
     "output_type": "stream",
     "text": [
      "{'first_name': 'Hossein', 'last_name': 'Homaei', 'age': 40} <class 'dict'>\n"
     ]
    }
   ],
   "source": [
    "# Nested dictionaries\n",
    "users = {\n",
    "    'user1': {\n",
    "        'name' : 'Ali',\n",
    "        'last' : 'Alavi',\n",
    "        'location' : 'Aliabad'\n",
    "    }, \n",
    "    'user2': {\n",
    "        'name' : 'Hossein',\n",
    "        'last' : 'Homaei',\n",
    "        'location' : 'Tehran'        \n",
    "    }\n",
    "}\n",
    "\n",
    "print(person, type(person))"
   ]
  },
  {
   "cell_type": "markdown",
   "metadata": {},
   "source": [
    "# Members"
   ]
  },
  {
   "cell_type": "code",
   "execution_count": 36,
   "metadata": {},
   "outputs": [
    {
     "name": "stdout",
     "output_type": "stream",
     "text": [
      "Hossein\n",
      "Homaei\n",
      "Empty phone!\n"
     ]
    }
   ],
   "source": [
    "# Get value\n",
    "print(person['first_name'])     # If key does not exist returns error (KeyError)\n",
    "print(person.get('last_name'))  # Same as previous -> If key does not exist returns None\n",
    "print(person.get('phone_number', \"Empty phone!\"))   # Return default value (2nd argument)"
   ]
  },
  {
   "cell_type": "code",
   "execution_count": 37,
   "metadata": {},
   "outputs": [
    {
     "name": "stdout",
     "output_type": "stream",
     "text": [
      "{'first_name': 'Hossein', 'last_name': 'Homaei', 'age': 40, 'phone': '09121234567'}\n"
     ]
    }
   ],
   "source": [
    "# Add a new key-value\n",
    "person['phone'] = '09121234567'\n",
    "print(person)"
   ]
  },
  {
   "cell_type": "code",
   "execution_count": 38,
   "metadata": {},
   "outputs": [
    {
     "name": "stdout",
     "output_type": "stream",
     "text": [
      "\n",
      "--- Results ---\n",
      "Hossein would like to climb Damavand.\n",
      "Ali would like to climb Dena.\n"
     ]
    }
   ],
   "source": [
    "# Filling a Dictionary with User Inputs.\n",
    "responses = {}\n",
    "polling_active = True\n",
    "while True:\n",
    "    name = input(\"\\nWhat is your name? \")\n",
    "    response = input(\"Which mountain would you like to climb someday? \")\n",
    "    responses[name] = response\n",
    "    repeat = input(\"Would you like to let another person respond? (yes/ no) \")\n",
    "    if repeat.lower() == 'no' or repeat.lower() == 'n':\n",
    "        break\n",
    "print(\"\\n--- Results ---\")\n",
    "for name, response in responses.items():\n",
    "    print(f\"{name.title()} would like to climb {response.title()}.\")"
   ]
  },
  {
   "cell_type": "code",
   "execution_count": 39,
   "metadata": {},
   "outputs": [
    {
     "name": "stdout",
     "output_type": "stream",
     "text": [
      "{'first_name': 'Ali', 'last_name': 'Alavian'}\n"
     ]
    }
   ],
   "source": [
    "# Modifying values\n",
    "person2['last_name'] = 'Alavian'\n",
    "print(person2)"
   ]
  },
  {
   "cell_type": "code",
   "execution_count": 40,
   "metadata": {},
   "outputs": [
    {
     "name": "stdout",
     "output_type": "stream",
     "text": [
      "dict_keys(['first_name', 'last_name', 'age', 'phone'])\n"
     ]
    }
   ],
   "source": [
    "# Get keys\n",
    "print(person.keys())"
   ]
  },
  {
   "cell_type": "code",
   "execution_count": 46,
   "metadata": {},
   "outputs": [
    {
     "name": "stdout",
     "output_type": "stream",
     "text": [
      "dict_items([('first_name', 'Hossein'), ('last_name', 'Homaei'), ('age', 40), ('phone', '09121234567')])\n",
      "first_name:      Hossein\n",
      "last_name :       Homaei\n",
      "age       :           40\n",
      "phone     :  09121234567\n"
     ]
    }
   ],
   "source": [
    "# Get items\n",
    "print(person.items())\n",
    "\n",
    "for i,j in person.items():\n",
    "    print(f\"{i:10}: {j:>12}\")\n"
   ]
  },
  {
   "cell_type": "code",
   "execution_count": 47,
   "metadata": {},
   "outputs": [
    {
     "name": "stdout",
     "output_type": "stream",
     "text": [
      "{'first_name': 'Hossein', 'last_name': 'Homaei'}\n"
     ]
    }
   ],
   "source": [
    "# remove item\n",
    "del(person['age'])  # OR del person['age']\n",
    "person.pop('phone')\n",
    "print(person)"
   ]
  },
  {
   "cell_type": "markdown",
   "metadata": {},
   "source": [
    "## Copy"
   ]
  },
  {
   "cell_type": "code",
   "execution_count": 21,
   "metadata": {},
   "outputs": [
    {
     "name": "stdout",
     "output_type": "stream",
     "text": [
      "{'first_name': 'Hossein', 'last_name': 'Homaei'} {'first_name': 'Hossein', 'last_name': 'Homaei', 'city': 'Tehran'}\n"
     ]
    }
   ],
   "source": [
    "person3 = person.copy()\n",
    "person3['city'] = 'Tehran'\n",
    "print(person, person3)"
   ]
  },
  {
   "cell_type": "markdown",
   "metadata": {},
   "source": [
    "## Clear"
   ]
  },
  {
   "cell_type": "code",
   "execution_count": 22,
   "metadata": {},
   "outputs": [
    {
     "name": "stdout",
     "output_type": "stream",
     "text": [
      "{}\n"
     ]
    }
   ],
   "source": [
    "# clear\n",
    "person.clear()\n",
    "print(person)"
   ]
  },
  {
   "cell_type": "markdown",
   "metadata": {},
   "source": [
    "## Looping through a dictionary"
   ]
  },
  {
   "cell_type": "code",
   "execution_count": 23,
   "metadata": {},
   "outputs": [
    {
     "name": "stdout",
     "output_type": "stream",
     "text": [
      "Ali loves Python\n",
      "Hasan loves C++\n",
      "Hossein loves Java\n",
      "Sadjjad loves C++\n"
     ]
    }
   ],
   "source": [
    "favorite_languages = {\n",
    "    'Ali' : 'Python',\n",
    "    'Hasan' : 'C++',\n",
    "    'Hossein' : 'Java',\n",
    "    'Sadjjad' : 'C++'\n",
    "}\n",
    "\n",
    "# Looping through all key-value pairs\n",
    "for name, lang in favorite_languages.items():\n",
    "    print(f\"{name.title()} loves {lang}\")"
   ]
  },
  {
   "cell_type": "code",
   "execution_count": 24,
   "metadata": {},
   "outputs": [
    {
     "name": "stdout",
     "output_type": "stream",
     "text": [
      "Ali loves Python\n",
      "Hasan loves C++\n"
     ]
    }
   ],
   "source": [
    "# Looping through all keys\n",
    "friends = ['Ali', 'Hasan']\n",
    "for name in favorite_languages.keys():\n",
    "    if name in friends:\n",
    "        print(f\"{name.title()} loves {favorite_languages[name]}\")"
   ]
  },
  {
   "cell_type": "code",
   "execution_count": 25,
   "metadata": {},
   "outputs": [
    {
     "name": "stdout",
     "output_type": "stream",
     "text": [
      "Favorite languages are: \n",
      "C++\n",
      "Java\n",
      "Python\n"
     ]
    }
   ],
   "source": [
    "# Looping through all values\n",
    "print(\"Favorite languages are: \")\n",
    "for langs in sorted(set(favorite_languages.values())):  # Set is used to prevent redundancy\n",
    "    print(langs.title())"
   ]
  },
  {
   "cell_type": "markdown",
   "metadata": {},
   "source": [
    "## Dictionaries in Functions\n",
    "Returning a Dictionary from a function"
   ]
  },
  {
   "cell_type": "code",
   "execution_count": 26,
   "metadata": {},
   "outputs": [
    {
     "name": "stdout",
     "output_type": "stream",
     "text": [
      "{'first': 'Hossein', 'last': 'Homaei'}\n"
     ]
    }
   ],
   "source": [
    "def build_person(first_name, last_name):\n",
    "    person = {'first': first_name, 'last': last_name}\n",
    "    return person\n",
    "print(build_person('Hossein', 'Homaei'))"
   ]
  },
  {
   "cell_type": "markdown",
   "metadata": {},
   "source": [
    "Accept an arbitrary number of arguments which you don’t know the kinds:<br>\n",
    "In this case, you can write functions that accept as many key-value pairs as the calling statement provides.<br>\n",
    "Use double asterisks before a parameter => A dictionary will be created"
   ]
  },
  {
   "cell_type": "code",
   "execution_count": 27,
   "metadata": {},
   "outputs": [
    {
     "name": "stdout",
     "output_type": "stream",
     "text": [
      "{'location': 'princeton', 'field': 'physics', 'first_name': 'albert', 'last_name': 'einstein'}\n"
     ]
    }
   ],
   "source": [
    "def build_profile(first, last, **user_info):\n",
    "    user_info['first_name'] = first\n",
    "    user_info['last_name'] = last\n",
    "    return user_info\n",
    "user_profile = build_profile('albert', 'einstein', location ='princeton', field ='physics')\n",
    "print(user_profile)"
   ]
  }
 ],
 "metadata": {
  "kernelspec": {
   "display_name": "Python 3",
   "language": "python",
   "name": "python3"
  },
  "language_info": {
   "codemirror_mode": {
    "name": "ipython",
    "version": 3
   },
   "file_extension": ".py",
   "mimetype": "text/x-python",
   "name": "python",
   "nbconvert_exporter": "python",
   "pygments_lexer": "ipython3",
   "version": "3.12.1"
  }
 },
 "nbformat": 4,
 "nbformat_minor": 2
}
