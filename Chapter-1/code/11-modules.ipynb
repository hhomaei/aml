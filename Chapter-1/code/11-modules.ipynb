{
 "cells": [
  {
   "cell_type": "markdown",
   "metadata": {},
   "source": [
    "# Modules\n",
    "A module is a file containing a set of functions to include in your application <br>\n",
    "Types:\n",
    "1. Python core modules, \n",
    "2. Modules that you can install using the pip package manager \n",
    "3. You can create your own modules"
   ]
  },
  {
   "cell_type": "markdown",
   "metadata": {},
   "source": [
    "## Working with core Python modules\n",
    "## Import the whole module"
   ]
  },
  {
   "cell_type": "code",
   "execution_count": 1,
   "metadata": {},
   "outputs": [
    {
     "name": "stdout",
     "output_type": "stream",
     "text": [
      "Time: 7 : 46\n"
     ]
    }
   ],
   "source": [
    "import time\n",
    "currenttime = time.localtime()\n",
    "hour = currenttime.tm_hour\n",
    "minute = currenttime.tm_min\n",
    "print(\"Time:\", hour, \":\", minute)"
   ]
  },
  {
   "cell_type": "markdown",
   "metadata": {},
   "source": [
    "### Import a class or method of a module\n",
    "You can import only a class or method of a package. <br>\n",
    "For example, instead of importimg the whole module 'datetime' and calling datetime.date.today() like this:<br>\n",
    "```python\n",
    "import datetime\n",
    "today = datetime.date.today()\n",
    "```\n",
    ", you can import only the required class date.\n"
   ]
  },
  {
   "cell_type": "code",
   "execution_count": 2,
   "metadata": {},
   "outputs": [
    {
     "name": "stdout",
     "output_type": "stream",
     "text": [
      "2024-10-05\n"
     ]
    }
   ],
   "source": [
    "from datetime import date\n",
    "today = date.today()\n",
    "print(today)"
   ]
  },
  {
   "cell_type": "code",
   "execution_count": 3,
   "metadata": {},
   "outputs": [
    {
     "name": "stdout",
     "output_type": "stream",
     "text": [
      "Hossein\n"
     ]
    }
   ],
   "source": [
    "# Example of importing only the required function\n",
    "from random import choice\n",
    "players = ['Ali', 'Hasan', 'Hossein']\n",
    "print(choice(players))"
   ]
  },
  {
   "cell_type": "markdown",
   "metadata": {},
   "source": [
    "## pip modules\n",
    "Install the intended package using the python package manager (pip)<br>\n",
    "Upgrade the pip module itself: \n",
    "```sh\n",
    "pip install --upgrade pip\n",
    "```\n",
    "Install a new package: \n",
    "```sh\n",
    "pip install module_name \n",
    "```\n",
    "OR \n",
    "```sh\n",
    "pip3 install module_name\n",
    "```\n",
    "The above command install the module_name in the whole system<br><br>\n",
    "You can also make a virtual environment and install the module_name only on that environment<br>\n",
    "For using virtual environment, you should install env: \n",
    "```sh\n",
    "pip install env\n",
    "```\n",
    "To list all installed modules, in command line: \n",
    "```sh\n",
    "pip freeze \n",
    "```\n",
    "OR \n",
    "```sh\n",
    "pip list\n",
    "```\n",
    "To uninstall a package, in command line:\n",
    "```sh\n",
    "pip uninstall module_name\n",
    "```"
   ]
  },
  {
   "cell_type": "code",
   "execution_count": 4,
   "metadata": {},
   "outputs": [
    {
     "name": "stdout",
     "output_type": "stream",
     "text": [
      "Hello World\n"
     ]
    }
   ],
   "source": [
    "# Example: pip install camelcase\n",
    "import camelcase\n",
    "print(camelcase.CamelCase().hump('hello world'))"
   ]
  },
  {
   "cell_type": "markdown",
   "metadata": {},
   "source": [
    "## Custom module\n",
    "Write your module as a .py file in the same folder and then import it by the name"
   ]
  },
  {
   "cell_type": "code",
   "execution_count": 1,
   "metadata": {},
   "outputs": [
    {
     "name": "stdout",
     "output_type": "stream",
     "text": [
      "Email is valid\n"
     ]
    }
   ],
   "source": [
    "# Example: write validator.py and import it or its methods\n",
    "# Importing the entire module:\n",
    "import validator\n",
    "email = 'test@test.ir'\n",
    "#email = 'test#test.ir'\n",
    "if validator.validate_email(email):\n",
    "    print('Email is valid')\n",
    "else:\n",
    "    print('Email is bad')"
   ]
  },
  {
   "cell_type": "markdown",
   "metadata": {},
   "source": [
    "## Import multiple classes\n",
    "Example of Import multiple classes from a module:<br>\n",
    "```Python\n",
    "from car import Car, ElectricCar\n",
    "```\n",
    "\n",
    "<b>Note:</b> importing all classes from a module in the form of \"from module_name import *\" is not recommended; Because:\n",
    "- It is unclear which classes you’re using from the module.\n",
    "- It may lead to confusion with names in your own file. If you accidentally import a class with the same name as something else in your program file, you can create errors that are hard to diagnose."
   ]
  },
  {
   "cell_type": "markdown",
   "metadata": {},
   "source": [
    "## Aliases\n",
    "Why?\n",
    "- Helpful when using modules to organize your projects’ code.\n",
    "- Essential when using a class or function with the same name as the imported one\n",
    "```python\n",
    "from module_name import class_name as class_alias\n",
    "```\n",
    "Example: \n",
    "```python\n",
    "from electric_car import ElectricCar as EC\n",
    "```"
   ]
  },
  {
   "cell_type": "markdown",
   "metadata": {},
   "source": [
    "## Using random lib\n",
    "The random library is used to generate random values or do related things. It is pre-installed Python package, so you do not need to pip install it."
   ]
  },
  {
   "cell_type": "code",
   "execution_count": 20,
   "metadata": {},
   "outputs": [
    {
     "data": {
      "text/plain": [
       "0.9124763589340703"
      ]
     },
     "execution_count": 20,
     "metadata": {},
     "output_type": "execute_result"
    }
   ],
   "source": [
    "import random\n",
    "# Generate a random float between 0 and 1\n",
    "random.random()"
   ]
  },
  {
   "cell_type": "code",
   "execution_count": 40,
   "metadata": {},
   "outputs": [
    {
     "data": {
      "text/plain": [
       "5"
      ]
     },
     "execution_count": 40,
     "metadata": {},
     "output_type": "execute_result"
    }
   ],
   "source": [
    "# Generate a random integer between a and b\n",
    "random.randint(1, 6)"
   ]
  },
  {
   "cell_type": "code",
   "execution_count": 45,
   "metadata": {},
   "outputs": [
    {
     "data": {
      "text/plain": [
       "3.692550181710718"
      ]
     },
     "execution_count": 45,
     "metadata": {},
     "output_type": "execute_result"
    }
   ],
   "source": [
    "# Generate a random float between a and b\n",
    "random.uniform(1, 6)"
   ]
  },
  {
   "cell_type": "code",
   "execution_count": 56,
   "metadata": {},
   "outputs": [
    {
     "data": {
      "text/plain": [
       "[6, 5, 4, 1, 2, 3]"
      ]
     },
     "execution_count": 56,
     "metadata": {},
     "output_type": "execute_result"
    }
   ],
   "source": [
    "# Shuffle a collection\n",
    "l = [1, 2, 3, 4, 5, 6]\n",
    "random.shuffle(l)\n",
    "l"
   ]
  },
  {
   "cell_type": "code",
   "execution_count": 71,
   "metadata": {},
   "outputs": [
    {
     "data": {
      "text/plain": [
       "'B'"
      ]
     },
     "execution_count": 71,
     "metadata": {},
     "output_type": "execute_result"
    }
   ],
   "source": [
    "# Choose an element from the collection randomly\n",
    "l = ['A', 'B', 'C', 'D', 'E', 'F']\n",
    "random.choice(l)"
   ]
  },
  {
   "cell_type": "code",
   "execution_count": 74,
   "metadata": {},
   "outputs": [
    {
     "data": {
      "text/plain": [
       "['D', 'C']"
      ]
     },
     "execution_count": 74,
     "metadata": {},
     "output_type": "execute_result"
    }
   ],
   "source": [
    "# Choose k elements from the collection randomly\n",
    "random.choices(l, k = 2)"
   ]
  },
  {
   "cell_type": "code",
   "execution_count": 96,
   "metadata": {},
   "outputs": [
    {
     "data": {
      "text/plain": [
       "['B', 'C']"
      ]
     },
     "execution_count": 96,
     "metadata": {},
     "output_type": "execute_result"
    }
   ],
   "source": [
    "# Choose elements from the collection randomly by different probabilities for each choice (not uniform)\n",
    "random.choices(l, weights=[1, 5, 8, 3, 2, 1], k = 2)"
   ]
  },
  {
   "cell_type": "code",
   "execution_count": 104,
   "metadata": {},
   "outputs": [
    {
     "name": "stdout",
     "output_type": "stream",
     "text": [
      "Player-1 ---- Player-2\n",
      "----------------------\n",
      "Rock          Paper   \n",
      "0             1       \n",
      "----------------------\n",
      "Scissors      Scissors\n",
      "0             1       \n",
      "----------------------\n",
      "Rock          Paper   \n",
      "0             2       \n",
      "----------------------\n",
      "Scissors      Rock    \n",
      "0             3       \n",
      "----------------------\n",
      "Player 2 won!\n"
     ]
    }
   ],
   "source": [
    "# Example: Rock, Paper, Scissors\n",
    "options = [\"Rock\", \"Paper\", \"Scissors\"]\n",
    "player1_score, player2_score = 0, 0\n",
    "\n",
    "def winnerScore(player1_choice, player2_choice, player1_score, player2_score):\n",
    "    if player1_choice == 'Rock' and player2_choice == 'Scissors':\n",
    "        return player1_score + 1, player2_score\n",
    "    elif player1_choice == 'Paper' and player2_choice == 'Rock':\n",
    "        return player1_score + 1, player2_score\n",
    "    elif player1_choice == 'Scissors' and player2_choice == 'Paper':\n",
    "        return player1_score + 1, player2_score\n",
    "    elif player1_choice == player2_choice:\n",
    "        return player1_score , player2_score\n",
    "    return player1_score, player2_score + 1\n",
    "\n",
    "\n",
    "print(\"Player-1 ---- Player-2\")\n",
    "print(\"----------------------\")\n",
    "while player1_score < 3 and player2_score < 3:\n",
    "    player1_choice = random.choice(options)\n",
    "    player2_choice = random.choice(options)\n",
    "    player1_score, player2_score = winnerScore(player1_choice, player2_choice, player1_score, player2_score)\n",
    "    print(f\"{player1_choice:8}      {player2_choice:8}\")\n",
    "    print(f\"{player1_score:<8}      {player2_score:<8}\")\n",
    "    print(\"----------------------\")\n",
    "\n",
    "if player1_score > player2_score:\n",
    "    print('Player 1 won!')\n",
    "elif player2_score > player1_score:\n",
    "    print('Player 2 won!')\n",
    "else:\n",
    "    print('Never happen!')"
   ]
  },
  {
   "cell_type": "markdown",
   "metadata": {},
   "source": []
  }
 ],
 "metadata": {
  "kernelspec": {
   "display_name": "Python 3",
   "language": "python",
   "name": "python3"
  },
  "language_info": {
   "codemirror_mode": {
    "name": "ipython",
    "version": 3
   },
   "file_extension": ".py",
   "mimetype": "text/x-python",
   "name": "python",
   "nbconvert_exporter": "python",
   "pygments_lexer": "ipython3",
   "version": "3.12.1"
  }
 },
 "nbformat": 4,
 "nbformat_minor": 2
}
