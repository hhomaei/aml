{
 "cells": [
  {
   "cell_type": "markdown",
   "metadata": {},
   "source": [
    "# Comments"
   ]
  },
  {
   "cell_type": "code",
   "execution_count": 1,
   "metadata": {},
   "outputs": [
    {
     "name": "stdout",
     "output_type": "stream",
     "text": [
      "Hello world!\n"
     ]
    }
   ],
   "source": [
    "'''\n",
    "Hello, This is a multi-line comment block\n",
    "line 1\n",
    "line 2\n",
    "'''\n",
    "\n",
    "\"\"\"\n",
    "This is another multi-line comment block\n",
    "line 1\n",
    "line 2\n",
    "\"\"\"\n",
    "\n",
    "#This is a single line comment\n",
    "\n",
    "print(\"Hello world!\")"
   ]
  },
  {
   "cell_type": "markdown",
   "metadata": {
    "vscode": {
     "languageId": "plaintext"
    }
   },
   "source": [
    "# Variables"
   ]
  },
  {
   "cell_type": "code",
   "execution_count": 2,
   "metadata": {},
   "outputs": [
    {
     "name": "stdout",
     "output_type": "stream",
     "text": [
      "variables:  1 2.5 Hossein True\n"
     ]
    }
   ],
   "source": [
    "# Define variables = assigning value\n",
    "x = 1               # integer\n",
    "y = 2.5             # float\n",
    "name = 'Hossein'    # string\n",
    "is_cool = True      # bool (True/False)\n",
    "\n",
    "print('variables: ', x, y, name, is_cool)"
   ]
  },
  {
   "cell_type": "code",
   "execution_count": 3,
   "metadata": {},
   "outputs": [
    {
     "name": "stdout",
     "output_type": "stream",
     "text": [
      "variables:  1 2.5 Hossein True\n"
     ]
    }
   ],
   "source": [
    "# compact form\n",
    "x, y, name, is_cool = 1, 2.5, 'Hossein', True\n",
    "print('variables: ', x, y, name, is_cool)"
   ]
  },
  {
   "cell_type": "code",
   "execution_count": 4,
   "metadata": {},
   "outputs": [
    {
     "name": "stdout",
     "output_type": "stream",
     "text": [
      "4000000\n"
     ]
    }
   ],
   "source": [
    "wowNum = 4_000_000\n",
    "print(wowNum)"
   ]
  },
  {
   "cell_type": "code",
   "execution_count": 5,
   "metadata": {},
   "outputs": [
    {
     "name": "stdout",
     "output_type": "stream",
     "text": [
      "4_000_000 uses underscores for code readability; The actual number is 4000000\n"
     ]
    }
   ],
   "source": [
    "# Format string\n",
    "print(f\"4_000_000 uses underscores for code readability; The actual number is {wowNum}\")"
   ]
  },
  {
   "cell_type": "code",
   "execution_count": 6,
   "metadata": {},
   "outputs": [],
   "source": [
    "#There is no special keyword to define constants\n",
    "#However, There is a non-written contract between coders that use UPPER CASES to show that a variable is a constant\n",
    "PI = 3.14"
   ]
  },
  {
   "cell_type": "code",
   "execution_count": 7,
   "metadata": {},
   "outputs": [
    {
     "name": "stdout",
     "output_type": "stream",
     "text": [
      "<class 'float'> <class 'int'>\n"
     ]
    }
   ],
   "source": [
    "# Find the variable types\n",
    "print(type(PI), type(wowNum))"
   ]
  },
  {
   "cell_type": "code",
   "execution_count": 8,
   "metadata": {},
   "outputs": [
    {
     "name": "stdout",
     "output_type": "stream",
     "text": [
      "<class 'str'> 1\n",
      "<class 'int'> 2\n"
     ]
    }
   ],
   "source": [
    "#casting\n",
    "x = str(x)\n",
    "y = int(y)\n",
    "print(type(x), x)\n",
    "print(type(y), y)"
   ]
  },
  {
   "cell_type": "markdown",
   "metadata": {},
   "source": [
    "# Basic calculation"
   ]
  },
  {
   "cell_type": "code",
   "execution_count": 9,
   "metadata": {},
   "outputs": [
    {
     "name": "stdout",
     "output_type": "stream",
     "text": [
      "5 + 2 = 7\n",
      "5 / 2 = 2.5\n",
      "5 // 2 = 2\n",
      "5 % 2 = 2: 1\n",
      "5 ** 2 = 25\n"
     ]
    }
   ],
   "source": [
    "num1 = 5\n",
    "num2 = 2\n",
    "\n",
    "addRes = num1 + num2\n",
    "divFloat = num1/num2\n",
    "divInteger = num1//num2\n",
    "divRem = num1%num2\n",
    "powRes = num1 ** num2\n",
    "\n",
    "print(f\"{num1} + {num2} = {addRes}\")\n",
    "print(f\"{num1} / {num2} = {divFloat}\")\n",
    "print(f\"{num1} // {num2} = {divInteger}\")\n",
    "print(f\"{num1} % {num2} = {num2}: {divRem}\")\n",
    "print(f\"{num1} ** {num2} = {powRes}\")"
   ]
  },
  {
   "cell_type": "code",
   "execution_count": 10,
   "metadata": {},
   "outputs": [
    {
     "name": "stdout",
     "output_type": "stream",
     "text": [
      "n1 + n2 + n3 =  9\n"
     ]
    }
   ],
   "source": [
    "#calculation inside print\n",
    "n1, n2, n3 = 2, 3, 4\n",
    "print(\"n1 + n2 + n3 = \", n1 + n2 + n3)"
   ]
  },
  {
   "cell_type": "code",
   "execution_count": 11,
   "metadata": {},
   "outputs": [
    {
     "name": "stdout",
     "output_type": "stream",
     "text": [
      "2 + 3 * 4 =  14\n",
      "2 + 3 * 4 ** 2 =  50\n",
      "(2 + 3) * 4 =  20\n",
      "1\n"
     ]
    }
   ],
   "source": [
    "# Calculation priority \n",
    "print(f\"{n1} + {n2} * {n3} = \", n1 + n2 * n3)\n",
    "\n",
    "print(f\"{n1} + {n2} * {n3} ** 2 = \", n1 + n2 * n3 ** 2)\n",
    "\n",
    "print(f\"({n1} + {n2}) * {n3} = \", (n1 + n2) * n3)\n",
    "\n",
    "x = 2 ^ 3\n",
    "print(x)"
   ]
  },
  {
   "cell_type": "markdown",
   "metadata": {},
   "source": [
    "# Floating-points"
   ]
  },
  {
   "cell_type": "code",
   "execution_count": 12,
   "metadata": {},
   "outputs": [
    {
     "name": "stdout",
     "output_type": "stream",
     "text": [
      "4.5 - 2.5 =  2.0\n"
     ]
    }
   ],
   "source": [
    "# Floating-point numbers are represented in computer hardware as base 2 (binary) fractions. \n",
    "# Unfortunately, most decimal fractions cannot be represented exactly as binary fractions.\n",
    "# A consequence is that, in general, the decimal floating-point numbers you enter are only approximated by the binary floating-point numbers actually stored in the machine\n",
    "float1 = 4.5\n",
    "float2 = 2.5\n",
    "minusRes = float1 - float2\n",
    "print(f\"{float1} - {float2} = \", float1 - float2)"
   ]
  },
  {
   "cell_type": "code",
   "execution_count": 13,
   "metadata": {},
   "outputs": [
    {
     "name": "stdout",
     "output_type": "stream",
     "text": [
      "2.1 - 3 = -0.8999999999999999\n"
     ]
    }
   ],
   "source": [
    "# Floating-point numbers are represented in computer hardware as base 2 (binary) fractions. \n",
    "# Unfortunately, most decimal fractions cannot be represented exactly as binary fractions.\n",
    "# A consequence is that, in general, the decimal floating-point numbers you enter are only approximated by the binary floating-point numbers actually stored in the machine\n",
    "float1 = 2.1\n",
    "float2 = 3\n",
    "minusRes = float1 - float2\n",
    "print(f\"{float1} - {float2} = {minusRes}\")"
   ]
  },
  {
   "cell_type": "code",
   "execution_count": 14,
   "metadata": {},
   "outputs": [
    {
     "name": "stdout",
     "output_type": "stream",
     "text": [
      "float1-float2 does NOT exactly equal 0.9!\n"
     ]
    }
   ],
   "source": [
    "if minusRes == -0.9:\n",
    "    print(\"float1-float2 exactly equals 0.9\")\n",
    "else:\n",
    "    print(\"float1-float2 does NOT exactly equal 0.9!\")"
   ]
  },
  {
   "cell_type": "code",
   "execution_count": 15,
   "metadata": {},
   "outputs": [
    {
     "name": "stdout",
     "output_type": "stream",
     "text": [
      "float1-float2 almost equals 0.9\n"
     ]
    }
   ],
   "source": [
    "expected_value = -0.9\n",
    "allowed_error = 0.00001\n",
    "if abs(minusRes - expected_value) <= allowed_error:\n",
    "    print(\"float1-float2 almost equals 0.9\")\n",
    "else:\n",
    "    print(\"float1-float2 does NOT equal 0.9!\")"
   ]
  }
 ],
 "metadata": {
  "kernelspec": {
   "display_name": "Python 3",
   "language": "python",
   "name": "python3"
  },
  "language_info": {
   "codemirror_mode": {
    "name": "ipython",
    "version": 3
   },
   "file_extension": ".py",
   "mimetype": "text/x-python",
   "name": "python",
   "nbconvert_exporter": "python",
   "pygments_lexer": "ipython3",
   "version": "3.12.1"
  }
 },
 "nbformat": 4,
 "nbformat_minor": 2
}
