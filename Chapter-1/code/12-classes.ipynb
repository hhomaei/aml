{
 "cells": [
  {
   "cell_type": "markdown",
   "metadata": {},
   "source": [
    "# Class\n",
    "A class is like a blueprint for creating objects. An object has properties and methods.<br>\n",
    "Almost everything in Python is an object."
   ]
  },
  {
   "cell_type": "markdown",
   "metadata": {},
   "source": [
    "## Create"
   ]
  },
  {
   "cell_type": "code",
   "execution_count": 10,
   "metadata": {},
   "outputs": [],
   "source": [
    "class User:\n",
    "    # Constructor\n",
    "    def __init__(self, name, email, age):\n",
    "        self.name = name\n",
    "        self.email = email\n",
    "        self.age = age\n",
    "\n",
    "    # Other methods\n",
    "    def say_hello(self):\n",
    "        return f'Hello everybody! My name is {self.name}'\n",
    "\n",
    "    def greeting(self):\n",
    "        return f'My name is {self.name} and I am {self.age}'\n",
    "    \n",
    "# Another class!\n",
    "class Bill:\n",
    "    # Constructor\n",
    "    def __init__(self):\n",
    "        self.items = []\n",
    "        self.totalPrice = 0\n",
    "     \n",
    "    def getNumberOfItems(self):\n",
    "        return len(self.items)\n",
    "    \n",
    "    def getTotalPrice(self):\n",
    "        return self.totalPrice\n",
    "\n",
    "    def addNewItem(self, itemName, amount, itemPrice):\n",
    "        item = {'name' : itemName, 'amount' : amount, 'price' : itemPrice}\n",
    "        self.items.append(item)\n",
    "        price = amount * itemPrice\n",
    "        self.totalPrice += price\n",
    "\n",
    "    def printBill(self):\n",
    "        print(f\"Name\\tAmount\\tPrice\\t\")\n",
    "        for item in self.items:\n",
    "            print(f\"{item['name']}\\t{item['amount']}\\t{item['price']}\")\n",
    "        print(f\"Total: {self.getTotalPrice()}\")"
   ]
  },
  {
   "cell_type": "markdown",
   "metadata": {},
   "source": [
    "## Usage"
   ]
  },
  {
   "cell_type": "code",
   "execution_count": 11,
   "metadata": {},
   "outputs": [
    {
     "name": "stdout",
     "output_type": "stream",
     "text": [
      "Hossein Homaei\n",
      "Hello everybody! My name is Hossein Homaei\n",
      "My name is Hossein Homaei and I am 40\n"
     ]
    }
   ],
   "source": [
    "# Init (create) user object\n",
    "hossein = User('Hossein Homaei', 'homaei@modares.ac.ir', 40)\n",
    "\n",
    "# Access to properties\n",
    "print(hossein.name)\n",
    "\n",
    "#Access to methods\n",
    "print(hossein.say_hello())\n",
    "print(hossein.greeting())"
   ]
  },
  {
   "cell_type": "markdown",
   "metadata": {},
   "source": [
    "## Extend a Class\n",
    "To extend a class, pass the main class as a parameter to the class definition (in contrast to Java that uses the extends keyword)"
   ]
  },
  {
   "cell_type": "code",
   "execution_count": 12,
   "metadata": {},
   "outputs": [],
   "source": [
    "# The following class extends the User class and uses a Bill object\n",
    "class Customer(User):\n",
    "    def __init__(self, name, email, age):\n",
    "        super().__init__(name, email, age)\n",
    "        self.balance = 0\n",
    "        self.bill = Bill()\n",
    "\n",
    "    def set_balance(self, balance):\n",
    "        self.balance = balance\n",
    "\n",
    "    def get_balance(self):\n",
    "        return self.balance - self.bill.getTotalPrice()\n",
    "\n",
    "    # Overwrite a method\n",
    "    def greeting(self):\n",
    "        return f'My name is {self.name}, I am {self.age} and my balance is {self.balance}'"
   ]
  },
  {
   "cell_type": "markdown",
   "metadata": {},
   "source": [
    "Call the Customer class methods:"
   ]
  },
  {
   "cell_type": "code",
   "execution_count": 13,
   "metadata": {},
   "outputs": [],
   "source": [
    "ali = Customer('Ali Alavi', 'alavi@modares.ac.ir', 35)\n",
    "ali.set_balance(500000)"
   ]
  },
  {
   "cell_type": "markdown",
   "metadata": {},
   "source": [
    "Call the parent (User) methods:"
   ]
  },
  {
   "cell_type": "code",
   "execution_count": 14,
   "metadata": {},
   "outputs": [
    {
     "name": "stdout",
     "output_type": "stream",
     "text": [
      "Hello everybody! My name is Ali Alavi\n",
      "My name is Ali Alavi, I am 35 and my balance is 500000\n"
     ]
    }
   ],
   "source": [
    "print(ali.say_hello())\n",
    "print(ali.greeting())"
   ]
  },
  {
   "cell_type": "markdown",
   "metadata": {},
   "source": [
    "Call the methods defined in Bill class using the bill object:"
   ]
  },
  {
   "cell_type": "code",
   "execution_count": 15,
   "metadata": {},
   "outputs": [
    {
     "name": "stdout",
     "output_type": "stream",
     "text": [
      "Name\tAmount\tPrice\t\n",
      "carot\t3\t15000\n",
      "lemon\t2\t30000\n",
      "Total: 105000\n",
      "Balance: 395000\n"
     ]
    }
   ],
   "source": [
    "ali.bill.addNewItem('carot', 3, 15000)\n",
    "ali.bill.addNewItem('lemon', 2, 30000)\n",
    "ali.bill.printBill()\n",
    "print(f\"Balance: {ali.get_balance()}\")"
   ]
  },
  {
   "cell_type": "markdown",
   "metadata": {},
   "source": [
    "<i>Suggestions:</i>\n",
    "- First letter of the class name -> capital\n",
    "- Instances -> lowercase\n",
    "- Use one blank line between methods and two blank lines to separate classes.\n",
    "- Every class should have a docstring immediately following the class definition describing what this class does.Example: \"\"\"Modeling a battery for an electric car.\"\"\""
   ]
  }
 ],
 "metadata": {
  "kernelspec": {
   "display_name": "Python 3",
   "language": "python",
   "name": "python3"
  },
  "language_info": {
   "codemirror_mode": {
    "name": "ipython",
    "version": 3
   },
   "file_extension": ".py",
   "mimetype": "text/x-python",
   "name": "python",
   "nbconvert_exporter": "python",
   "pygments_lexer": "ipython3",
   "version": "3.12.1"
  }
 },
 "nbformat": 4,
 "nbformat_minor": 2
}
