{
 "cells": [
  {
   "cell_type": "markdown",
   "metadata": {},
   "source": [
    "# Working with files\n",
    "To open a file, we need to specify the file path and the opening mode.<br>\n",
    "The path can be absolute or relative. Note that the relative path is started from <font color='red'>\"Current Working Directory (CWD)\"</font>. The CWD is defined as the directory from where the Python script is being executed. When you open a <mark>folder</mark> by vscode, CWD of OS is automatically changed to the openned folder. Otherwise, it is the Windows home folder (C:\\Users\\yourusername). You can use the following code to change CWD to the directory that the current Python file is located\n",
    "```python\n",
    "import os\n",
    "os.chdir(os.path.dirname(__file__))\n",
    "```\n",
    "To ensure that the directory has been changed, you can use the followin code:\n",
    "```python\n",
    "print(os.getcwd())\n",
    "```\n",
    "Opening modes:\n",
    "- r = read (return error if the file does not exist). This is the default mode.\n",
    "- w: write (creates the file if it does not exist or overwrites an existing file)\n",
    "- x: Exclusive creation that fails if the file already exists\n",
    "- a: Appends to a file (creates the file if it does not exist)\n",
    "- b: Binary mode\n",
    "- t: Text mode. Default\n",
    "- +: Activates read and write methods\n",
    "Example for binary read and write: \n",
    "```python\n",
    "f = open(\"<file_path>\", \"rb+\")\n",
    "```"
   ]
  },
  {
   "cell_type": "code",
   "execution_count": 20,
   "metadata": {},
   "outputs": [],
   "source": [
    "myFile = open('myfile.txt', 'w') # Create or open"
   ]
  },
  {
   "cell_type": "markdown",
   "metadata": {},
   "source": [
    "## File information"
   ]
  },
  {
   "cell_type": "code",
   "execution_count": 21,
   "metadata": {},
   "outputs": [
    {
     "name": "stdout",
     "output_type": "stream",
     "text": [
      "Name:  myfile.txt\n",
      "Is closed:  False\n",
      "Opening mode:  w\n"
     ]
    }
   ],
   "source": [
    "# Get info\n",
    "print('Name: ', myFile.name)\n",
    "print('Is closed: ', myFile.closed)\n",
    "print('Opening mode: ', myFile.mode)"
   ]
  },
  {
   "cell_type": "markdown",
   "metadata": {},
   "source": [
    "## Write into the file"
   ]
  },
  {
   "cell_type": "code",
   "execution_count": 22,
   "metadata": {},
   "outputs": [
    {
     "data": {
      "text/plain": [
       "10"
      ]
     },
     "execution_count": 22,
     "metadata": {},
     "output_type": "execute_result"
    }
   ],
   "source": [
    "myFile.write(\"I love Python\")\n",
    "myFile.write(\" and Java.\")"
   ]
  },
  {
   "cell_type": "markdown",
   "metadata": {},
   "source": [
    "## Close the file"
   ]
  },
  {
   "cell_type": "code",
   "execution_count": 23,
   "metadata": {},
   "outputs": [],
   "source": [
    "myFile.close()"
   ]
  },
  {
   "cell_type": "markdown",
   "metadata": {},
   "source": [
    "## Append to the file"
   ]
  },
  {
   "cell_type": "code",
   "execution_count": 24,
   "metadata": {},
   "outputs": [],
   "source": [
    "myFile = open('myfile.txt', 'a')\n",
    "myFile.write(' I also like CPP.\\n')\n",
    "myFile.write('My friend \"Ali\" loves Javascript.')\n",
    "myFile.close()"
   ]
  },
  {
   "cell_type": "markdown",
   "metadata": {},
   "source": [
    "## Read from the file"
   ]
  },
  {
   "cell_type": "code",
   "execution_count": 25,
   "metadata": {},
   "outputs": [
    {
     "name": "stdout",
     "output_type": "stream",
     "text": [
      "I love Python\n"
     ]
    }
   ],
   "source": [
    "# Reading X chars from file\n",
    "myFile = open('myfile.txt', 'r')\n",
    "text = myFile.read(13) # Number of characters to be read. Default is -1, which means the whole file.\n",
    "print(text)\n",
    "myFile.close()"
   ]
  },
  {
   "cell_type": "code",
   "execution_count": 26,
   "metadata": {},
   "outputs": [
    {
     "name": "stdout",
     "output_type": "stream",
     "text": [
      "I love Python and Java. I also like CPP.\n",
      "My friend \"Ali\" loves Javascript.\n"
     ]
    }
   ],
   "source": [
    "# Reading the whole file\n",
    "myFile = open('myfile.txt', 'r')\n",
    "text = myFile.read()\n",
    "print(text)\n",
    "myFile.close()"
   ]
  },
  {
   "cell_type": "code",
   "execution_count": 27,
   "metadata": {},
   "outputs": [
    {
     "name": "stdout",
     "output_type": "stream",
     "text": [
      "I love Python and Java. I also like CPP.\n",
      "\n",
      "My friend \"Ali\" loves Javascript.\n"
     ]
    }
   ],
   "source": [
    "# Reading line by line\n",
    "# The readlines() method returns a list containing each line in the file as a list item.\n",
    "myFile = open('myfile.txt', 'r')\n",
    "listOfLines = myFile.readlines()\n",
    "for line in listOfLines:\n",
    "    print(line)\n",
    "myFile.close()"
   ]
  },
  {
   "cell_type": "markdown",
   "metadata": {},
   "source": [
    "## Updating"
   ]
  },
  {
   "cell_type": "code",
   "execution_count": 28,
   "metadata": {},
   "outputs": [
    {
     "name": "stdout",
     "output_type": "stream",
     "text": [
      "I love Python and Java. I also like C++.\n",
      "\n"
     ]
    }
   ],
   "source": [
    "myFile = open('myfile.txt', 'r')\n",
    "text = myFile.read().replace('CPP', 'C++')\n",
    "myFile.close()\n",
    "myFile = open('myfile.txt', 'w+')\n",
    "myFile.write(text)\n",
    "\n",
    "# Go back to the begining\n",
    "myFile.seek(0)\n",
    "\n",
    "# The readline() method (Not readlines()) read a single line. \n",
    "print(myFile.readline())\n",
    "myFile.close()"
   ]
  },
  {
   "cell_type": "markdown",
   "metadata": {},
   "source": [
    "## Delete"
   ]
  },
  {
   "cell_type": "code",
   "execution_count": 29,
   "metadata": {},
   "outputs": [],
   "source": [
    "import os\n",
    "if os.path.isfile('myfile.txt'): # don't check => may cause an exception on remove method\n",
    "    os.remove('myfile.txt')"
   ]
  },
  {
   "cell_type": "markdown",
   "metadata": {},
   "source": [
    "## Using pathlib for file manipulation"
   ]
  },
  {
   "cell_type": "code",
   "execution_count": 30,
   "metadata": {},
   "outputs": [
    {
     "name": "stdout",
     "output_type": "stream",
     "text": [
      "I love programming.\n",
      "Ali loves it too.\n",
      "Lines:\n",
      "I love programming.\n",
      "Ali loves it too.\n"
     ]
    }
   ],
   "source": [
    "# It is another method for file manipulation:\n",
    "from pathlib import Path\n",
    "# Writing\n",
    "path = Path('myfile.txt')\n",
    "path.write_text(\"I love programming.\\nAli loves it too.\")\n",
    "# Reading\n",
    "content = path.read_text()\n",
    "print(content)\n",
    "# Working with a line\n",
    "print(\"Lines:\")\n",
    "lines = content.splitlines()\n",
    "for line in lines:\n",
    "    print(line)\n",
    "os.remove('myfile.txt')"
   ]
  },
  {
   "cell_type": "markdown",
   "metadata": {},
   "source": [
    "## Json module"
   ]
  },
  {
   "cell_type": "code",
   "execution_count": 31,
   "metadata": {},
   "outputs": [
    {
     "data": {
      "text/plain": [
       "43"
      ]
     },
     "execution_count": 31,
     "metadata": {},
     "output_type": "execute_result"
    }
   ],
   "source": [
    "# Workimg with json module\n",
    "import json\n",
    "\n",
    "info = {\"name\":\"Hossein\", \"age\":40, \"car\": None}\n",
    "\n",
    "# Generate a string containing the JSON representation of the data\n",
    "contents = json.dumps(info)\n",
    "\n",
    "# Write to the file as usual\n",
    "path = Path('info.json')\n",
    "path.write_text(contents)\n"
   ]
  },
  {
   "cell_type": "code",
   "execution_count": 32,
   "metadata": {},
   "outputs": [
    {
     "name": "stdout",
     "output_type": "stream",
     "text": [
      "{'name': 'Hossein', 'age': 40, 'car': None}\n"
     ]
    }
   ],
   "source": [
    "# Read from the file as usual\n",
    "contents = path.read_text()\n",
    "\n",
    "# Take in a JSON-formatted string and return a Python object\n",
    "info = json.loads(contents)\n",
    "\n",
    "print(info)\n",
    "\n",
    "os.remove('info.json')"
   ]
  }
 ],
 "metadata": {
  "kernelspec": {
   "display_name": "Python 3",
   "language": "python",
   "name": "python3"
  },
  "language_info": {
   "codemirror_mode": {
    "name": "ipython",
    "version": 3
   },
   "file_extension": ".py",
   "mimetype": "text/x-python",
   "name": "python",
   "nbconvert_exporter": "python",
   "pygments_lexer": "ipython3",
   "version": "3.12.1"
  }
 },
 "nbformat": 4,
 "nbformat_minor": 2
}
