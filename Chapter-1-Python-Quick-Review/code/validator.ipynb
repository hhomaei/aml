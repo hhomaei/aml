{
 "cells": [
  {
   "cell_type": "code",
   "execution_count": 7,
   "metadata": {},
   "outputs": [],
   "source": [
    "import re\n",
    "\n",
    "def validate_email(email):\n",
    "    if len(email) >= 6:\n",
    "        return bool(re.match(\"^.+@[a-zA-Z0-9-.]+.([a-zA-Z]{2,3}|[0-9]{1,3})(]?)$\", email))\n",
    "    return False\n"
   ]
  },
  {
   "cell_type": "markdown",
   "metadata": {},
   "source": [
    "# Regular Expressions (Regex)\n",
    "\n",
    "The regex module in Pythos = re\n",
    "- ? matches zero or one of the preceding group\n",
    "- \\* matches zero or more of the preceding group\n",
    "- \\+ matches one or more of the preceding group\n",
    "- {n} matches exactly n of the preceding group\n",
    "- {n,} matches n or more of the preceding group\n",
    "- {,m} matches 0 to m of the preceding group\n",
    "- {n,m} matches at least n and at most m of the preceding group\n",
    ">> Examplle: (Ha){3} will match the string 'HaHaHa', but it will not match 'HaHa'. <br>\n",
    ">> Example: (Ha){3,5} can match three, four, or five instances <br>\n",
    "- \\d matches anay numeric digit from 0 to 9\n",
    "- \\D matches any character that is not a numeric digit from 0 to 9.\n",
    "- ^ means the match must occur at the beginning of the searched text\n",
    ">> Example: ^spam means the string must begin with spam <br>\n",
    "- $ means the string must end with this regex pattern.\n",
    ">> Example: spam$ means the string must end with spam.\n",
    "- . matches any character except for a newline\n",
    "- \\[abc] matches any character between the brackets (such as a, b, or c).\n",
    "- \\[^abc] matches any character that isn’t between the brackets"
   ]
  },
  {
   "cell_type": "markdown",
   "metadata": {},
   "source": []
  }
 ],
 "metadata": {
  "kernelspec": {
   "display_name": "Python 3",
   "language": "python",
   "name": "python3"
  },
  "language_info": {
   "codemirror_mode": {
    "name": "ipython",
    "version": 3
   },
   "file_extension": ".py",
   "mimetype": "text/x-python",
   "name": "python",
   "nbconvert_exporter": "python",
   "pygments_lexer": "ipython3",
   "version": "3.12.1"
  }
 },
 "nbformat": 4,
 "nbformat_minor": 2
}
