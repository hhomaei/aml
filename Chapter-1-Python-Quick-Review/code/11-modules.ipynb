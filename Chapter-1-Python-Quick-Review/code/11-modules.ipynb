{
 "cells": [
  {
   "cell_type": "markdown",
   "metadata": {},
   "source": [
    "# Modules\n",
    "A module is a file containing a set of functions to include in your application <br>\n",
    "Types:\n",
    "1. Python core modules, \n",
    "2. Modules that you can install using the pip package manager \n",
    "3. You can create your own modules"
   ]
  },
  {
   "cell_type": "markdown",
   "metadata": {},
   "source": [
    "## Working with core Python modules\n",
    "## Import the whole module"
   ]
  },
  {
   "cell_type": "code",
   "execution_count": 3,
   "metadata": {},
   "outputs": [
    {
     "name": "stdout",
     "output_type": "stream",
     "text": [
      "Iran Standard Time: 7:57:47- 10 25 2025\n"
     ]
    }
   ],
   "source": [
    "import time\n",
    "currenttime = time.localtime()\n",
    "print(f\"{currenttime.tm_zone}: {currenttime.tm_hour}:{currenttime.tm_min}:{currenttime.tm_sec}- {currenttime.tm_mon} {currenttime.tm_mday} {currenttime.tm_year}\")"
   ]
  },
  {
   "cell_type": "markdown",
   "metadata": {},
   "source": [
    "### Import a class or method of a module\n",
    "You can import only a class or method of a package. <br>\n",
    "For example, instead of importimg the whole module 'datetime' and calling datetime.date.today() like this:<br>\n",
    "```python\n",
    "import datetime\n",
    "today = datetime.date.today()\n",
    "```\n",
    ", you can import only the required class date.\n"
   ]
  },
  {
   "cell_type": "code",
   "execution_count": 4,
   "metadata": {},
   "outputs": [
    {
     "name": "stdout",
     "output_type": "stream",
     "text": [
      "2025-10-25\n"
     ]
    }
   ],
   "source": [
    "from datetime import date\n",
    "today = date.today()\n",
    "print(today)"
   ]
  },
  {
   "cell_type": "code",
   "execution_count": 42,
   "metadata": {},
   "outputs": [
    {
     "name": "stdout",
     "output_type": "stream",
     "text": [
      "Hossein\n"
     ]
    }
   ],
   "source": [
    "# Example of importing only the required function\n",
    "from random import choice\n",
    "players = ['Ali', 'Hasan', 'Hossein']\n",
    "print(choice(players))"
   ]
  },
  {
   "cell_type": "markdown",
   "metadata": {},
   "source": [
    "### A useful module: random\n",
    "The random library is used to generate random values or do related things."
   ]
  },
  {
   "cell_type": "code",
   "execution_count": 6,
   "metadata": {},
   "outputs": [
    {
     "data": {
      "text/plain": [
       "0.918004177555343"
      ]
     },
     "execution_count": 6,
     "metadata": {},
     "output_type": "execute_result"
    }
   ],
   "source": [
    "import random\n",
    "\n",
    "# Generate a random float between 0 and 1\n",
    "random.random()"
   ]
  },
  {
   "cell_type": "code",
   "execution_count": 7,
   "metadata": {},
   "outputs": [
    {
     "data": {
      "text/plain": [
       "3"
      ]
     },
     "execution_count": 7,
     "metadata": {},
     "output_type": "execute_result"
    }
   ],
   "source": [
    "# Generate a random integer between a and b\n",
    "random.randint(1, 6)"
   ]
  },
  {
   "cell_type": "code",
   "execution_count": 8,
   "metadata": {},
   "outputs": [
    {
     "data": {
      "text/plain": [
       "4.530252338215593"
      ]
     },
     "execution_count": 8,
     "metadata": {},
     "output_type": "execute_result"
    }
   ],
   "source": [
    "# Generate a random float between a and b\n",
    "random.uniform(1, 6)"
   ]
  },
  {
   "cell_type": "code",
   "execution_count": 11,
   "metadata": {},
   "outputs": [
    {
     "data": {
      "text/plain": [
       "[3, 2, 5, 6, 1, 4]"
      ]
     },
     "execution_count": 11,
     "metadata": {},
     "output_type": "execute_result"
    }
   ],
   "source": [
    "# Shuffle a collection\n",
    "lst = [1, 2, 3, 4, 5, 6]\n",
    "random.shuffle(lst)\n",
    "lst\n"
   ]
  },
  {
   "cell_type": "code",
   "execution_count": 13,
   "metadata": {},
   "outputs": [
    {
     "data": {
      "text/plain": [
       "'D'"
      ]
     },
     "execution_count": 13,
     "metadata": {},
     "output_type": "execute_result"
    }
   ],
   "source": [
    "# Choose an element from the collection randomly\n",
    "l = ['A', 'B', 'C', 'D', 'E', 'F']\n",
    "random.choice(l)"
   ]
  },
  {
   "cell_type": "code",
   "execution_count": 16,
   "metadata": {},
   "outputs": [
    {
     "data": {
      "text/plain": [
       "['C', 'E']"
      ]
     },
     "execution_count": 16,
     "metadata": {},
     "output_type": "execute_result"
    }
   ],
   "source": [
    "# Choose k elements from the collection randomly\n",
    "random.choices(l, k = 2)"
   ]
  },
  {
   "cell_type": "code",
   "execution_count": 20,
   "metadata": {},
   "outputs": [
    {
     "data": {
      "text/plain": [
       "['B', 'C']"
      ]
     },
     "execution_count": 20,
     "metadata": {},
     "output_type": "execute_result"
    }
   ],
   "source": [
    "# Choose elements from the collection randomly by different probabilities for each choice (not uniform)\n",
    "random.choices(l, weights=[1, 5, 8, 3, 2, 1], k = 2)"
   ]
  },
  {
   "cell_type": "markdown",
   "metadata": {},
   "source": [
    "A real example Rock, Paper, Scissors"
   ]
  },
  {
   "cell_type": "code",
   "execution_count": null,
   "metadata": {},
   "outputs": [
    {
     "name": "stdout",
     "output_type": "stream",
     "text": [
      "Player-1 ---- Player-2\n",
      "----------------------\n",
      "Rock          Scissors\n",
      "1             0       \n",
      "----------------------\n",
      "Rock          Rock    \n",
      "1             0       \n",
      "----------------------\n",
      "Rock          Rock    \n",
      "1             0       \n",
      "----------------------\n",
      "Paper         Scissors\n",
      "1             1       \n",
      "----------------------\n",
      "Rock          Scissors\n",
      "2             1       \n",
      "----------------------\n",
      "Scissors      Rock    \n",
      "2             2       \n",
      "----------------------\n",
      "Scissors      Scissors\n",
      "2             2       \n",
      "----------------------\n",
      "Rock          Paper   \n",
      "2             3       \n",
      "----------------------\n",
      "Player 2 won!\n"
     ]
    }
   ],
   "source": [
    "options = [\"Rock\", \"Paper\", \"Scissors\"]\n",
    "\n",
    "def calculateScore(player1_choice, player2_choice, scores):\n",
    "    if player1_choice == 'Rock' and player2_choice == 'Scissors':\n",
    "        scores[0] += 1\n",
    "    elif player1_choice == 'Paper' and player2_choice == 'Rock':\n",
    "        scores[0] += 1\n",
    "    elif player1_choice == 'Scissors' and player2_choice == 'Paper':\n",
    "        scores[0] += 1\n",
    "    elif player1_choice == player2_choice:\n",
    "        return\n",
    "    else:\n",
    "        scores[1] += 1\n",
    "\n",
    "scores = [0, 0]\n",
    "print(\"Player-1 ---- Player-2\")\n",
    "print(\"----------------------\")\n",
    "while scores[0] < 3 and scores[1] < 3:\n",
    "    player1_choice = random.choice(options)\n",
    "    player2_choice = random.choice(options)\n",
    "    calculateScore(player1_choice, player2_choice, scores)\n",
    "    print(f\"{player1_choice:8}      {player2_choice:8}\")\n",
    "    print(f\"{scores[0]:<8}      {scores[1]:<8}\")\n",
    "    print(\"----------------------\")\n",
    "\n",
    "if scores[0] > scores[1]:\n",
    "    print('Player 1 won!')\n",
    "elif scores[1] > scores[0]:\n",
    "    print('Player 2 won!')\n",
    "else:\n",
    "    print('Never happen!')"
   ]
  },
  {
   "cell_type": "markdown",
   "metadata": {},
   "source": [
    "## pip modules\n",
    "Install the intended package using the python package manager (pip)<br>\n",
    "Upgrade the pip module itself: \n",
    "```sh\n",
    "pip install --upgrade pip\n",
    "```\n",
    "Install a new package: \n",
    "```sh\n",
    "pip install MODULE_NAME \n",
    "```\n",
    "OR \n",
    "```sh\n",
    "pip3 install MODULE_NAME\n",
    "```\n",
    "The above command install the MODULE_NAME in the whole system.<br>\n",
    "You can also make a virtual environment and install the MODULE_NAME only on that environment, as esplained in the slides.<br>\n",
    "\n",
    "To uninstall a package, in command line:\n",
    "```sh\n",
    "pip uninstall MODULE_NAME\n",
    "```"
   ]
  },
  {
   "cell_type": "code",
   "execution_count": 4,
   "metadata": {},
   "outputs": [
    {
     "name": "stdout",
     "output_type": "stream",
     "text": [
      "Hello World\n"
     ]
    }
   ],
   "source": [
    "# Example: pip install camelcase\n",
    "import camelcase\n",
    "print(camelcase.CamelCase().hump('hello world'))"
   ]
  },
  {
   "cell_type": "markdown",
   "metadata": {},
   "source": [
    "## Custom module\n",
    "Write your module as a .py file in the same folder and then import it, its classes, or methods."
   ]
  },
  {
   "cell_type": "code",
   "execution_count": 24,
   "metadata": {},
   "outputs": [
    {
     "name": "stdout",
     "output_type": "stream",
     "text": [
      "Email is valid\n"
     ]
    }
   ],
   "source": [
    "# Example: write validator.py and import it\n",
    "import validator\n",
    "email = 'test@test.ir'\n",
    "#email = 'test#test.ir'\n",
    "if validator.validate_email(email):\n",
    "    print('Email is valid')\n",
    "else:\n",
    "    print('Email is bad')"
   ]
  },
  {
   "cell_type": "markdown",
   "metadata": {},
   "source": [
    "## Import multiple classes\n",
    "Example of Import multiple classes from a module:<br>\n",
    "```Python\n",
    "from car import Car, ElectricCar\n",
    "```\n",
    "\n",
    "<b>Note:</b> importing all classes from a module in the form of \"from module_name import *\" is not recommended; Because:\n",
    "- It is unclear which classes you’re using from the module.\n",
    "- It may lead to confusion with names in your own file. If you accidentally import a class with the same name as something else in your program file, you can create errors that are hard to diagnose."
   ]
  },
  {
   "cell_type": "markdown",
   "metadata": {},
   "source": [
    "## Aliases\n",
    "Why?\n",
    "- Helpful when using modules to organize your projects’ code.\n",
    "- Essential when using a class or function with the same name as the imported one\n",
    "```python\n",
    "import module_name as module_alias\n",
    "from module_name import class_name as class_alias\n",
    "```\n",
    "Example: \n",
    "```python\n",
    "from electric_car import ElectricCar as EC\n",
    "```"
   ]
  },
  {
   "cell_type": "markdown",
   "metadata": {},
   "source": []
  }
 ],
 "metadata": {
  "kernelspec": {
   "display_name": "Python 3",
   "language": "python",
   "name": "python3"
  },
  "language_info": {
   "codemirror_mode": {
    "name": "ipython",
    "version": 3
   },
   "file_extension": ".py",
   "mimetype": "text/x-python",
   "name": "python",
   "nbconvert_exporter": "python",
   "pygments_lexer": "ipython3",
   "version": "3.12.1"
  }
 },
 "nbformat": 4,
 "nbformat_minor": 2
}
