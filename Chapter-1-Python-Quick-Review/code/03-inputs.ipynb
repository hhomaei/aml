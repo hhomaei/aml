{
 "cells": [
  {
   "cell_type": "markdown",
   "metadata": {},
   "source": [
    "# Inputs\n",
    "Use ```input()``` to get input from user.<br>\n",
    "<b>Note</b>: If you are using Jupyter in VS Code, the input must be typed in the bar that pops up at the top of the screen. If you run the classic python files (.py), it prompts you at the console window."
   ]
  },
  {
   "cell_type": "code",
   "execution_count": 1,
   "metadata": {},
   "outputs": [
    {
     "name": "stdout",
     "output_type": "stream",
     "text": [
      "Hello Hossein!\n"
     ]
    }
   ],
   "source": [
    "# Get input by input() method\n",
    "name = input(\"What is your name?\")\n",
    "print(f\"Hello {name}!\")"
   ]
  },
  {
   "cell_type": "code",
   "execution_count": 2,
   "metadata": {},
   "outputs": [
    {
     "name": "stdout",
     "output_type": "stream",
     "text": [
      "Hello, Hossein!\n"
     ]
    }
   ],
   "source": [
    "# more complicated prompt\n",
    "prompt = \"If you share your name, we can personalize the messages you see.\"\n",
    "prompt += \"\\nWhat is your first name? \"\n",
    "name = input(prompt)\n",
    "print(f\"Hello, {name}!\")\n"
   ]
  },
  {
   "cell_type": "markdown",
   "metadata": {},
   "source": [
    "Input method only get strings. If you need another type, say integer, you should cast it manually to that type."
   ]
  },
  {
   "cell_type": "code",
   "execution_count": 3,
   "metadata": {},
   "outputs": [
    {
     "name": "stdout",
     "output_type": "stream",
     "text": [
      "20 <class 'str'>\n",
      "20 <class 'int'>\n"
     ]
    }
   ],
   "source": [
    "# Numerical Input\n",
    "age = input(\"How old are you? \")\n",
    "print(age, type(age))\n",
    "age = int(age)\n",
    "print(age, type(age))"
   ]
  }
 ],
 "metadata": {
  "kernelspec": {
   "display_name": "Python 3",
   "language": "python",
   "name": "python3"
  },
  "language_info": {
   "codemirror_mode": {
    "name": "ipython",
    "version": 3
   },
   "file_extension": ".py",
   "mimetype": "text/x-python",
   "name": "python",
   "nbconvert_exporter": "python",
   "pygments_lexer": "ipython3",
   "version": "3.12.1"
  }
 },
 "nbformat": 4,
 "nbformat_minor": 2
}
