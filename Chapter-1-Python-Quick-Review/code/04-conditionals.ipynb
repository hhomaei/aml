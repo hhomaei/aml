{
 "cells": [
  {
   "cell_type": "markdown",
   "metadata": {},
   "source": [
    " # Conditionals\n",
    "\n",
    " Comparision operations: (==, !=, >, <, >=, <=) <br>\n",
    " Strings support == and !="
   ]
  },
  {
   "cell_type": "markdown",
   "metadata": {},
   "source": [
    "## Simple"
   ]
  },
  {
   "cell_type": "code",
   "execution_count": 7,
   "metadata": {},
   "outputs": [
    {
     "name": "stdout",
     "output_type": "stream",
     "text": [
      "10 is greater than 5\n"
     ]
    }
   ],
   "source": [
    "x, y = 10, 5\n",
    "\n",
    "if x > y:\n",
    "    print(f\"{x} is greater than {y}\")\n",
    "elif y > x:\n",
    "    print(f\"{y} is greater than {x}\")\n",
    "else:\n",
    "    print(f\"{y} is equal to {x}\")"
   ]
  },
  {
   "cell_type": "markdown",
   "metadata": {},
   "source": [
    "## Nested "
   ]
  },
  {
   "cell_type": "code",
   "execution_count": 8,
   "metadata": {},
   "outputs": [
    {
     "name": "stdout",
     "output_type": "stream",
     "text": [
      "10 is greater than 2 and less than or equal to 10\n"
     ]
    }
   ],
   "source": [
    "if x > 2:\n",
    "    if x <= 10:\n",
    "        print(f\"{x} is greater than 2 and less than or equal to 10\")"
   ]
  },
  {
   "cell_type": "markdown",
   "metadata": {},
   "source": [
    "## Combine conditions\n",
    "Use (and, or, not)"
   ]
  },
  {
   "cell_type": "code",
   "execution_count": 9,
   "metadata": {},
   "outputs": [
    {
     "name": "stdout",
     "output_type": "stream",
     "text": [
      "10 is greater than 2 and less than or equal to 10\n",
      "10 is not equal to 5\n"
     ]
    }
   ],
   "source": [
    "if x > 2 and x <= 10:\n",
    "    print(f\"{x} is greater than 2 and less than or equal to 10\")\n",
    "\n",
    "if not(x == y):\n",
    "    print(f\"{x} is not equal to {y}\")"
   ]
  },
  {
   "cell_type": "markdown",
   "metadata": {},
   "source": [
    "## The in operator"
   ]
  },
  {
   "cell_type": "code",
   "execution_count": 10,
   "metadata": {},
   "outputs": [
    {
     "name": "stdout",
     "output_type": "stream",
     "text": [
      "\"34\" exists in 1234567890\n"
     ]
    }
   ],
   "source": [
    "# Substring matching\n",
    "myString = \"1234567890\"\n",
    "if \"34\" in myString:\n",
    "    print(f'\"34\" exists in {myString}')"
   ]
  }
 ],
 "metadata": {
  "kernelspec": {
   "display_name": "Python 3",
   "language": "python",
   "name": "python3"
  },
  "language_info": {
   "codemirror_mode": {
    "name": "ipython",
    "version": 3
   },
   "file_extension": ".py",
   "mimetype": "text/x-python",
   "name": "python",
   "nbconvert_exporter": "python",
   "pygments_lexer": "ipython3",
   "version": "3.12.1"
  }
 },
 "nbformat": 4,
 "nbformat_minor": 2
}
