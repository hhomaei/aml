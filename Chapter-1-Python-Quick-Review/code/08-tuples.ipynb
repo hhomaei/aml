{
 "cells": [
  {
   "cell_type": "markdown",
   "metadata": {},
   "source": [
    "## Working with tuples\n",
    "\n",
    " A tuple is a collection which is ordered and unchangeable. Allows duplicate members.\n",
    "\n",
    " Difference to the lists = unchangeable"
   ]
  },
  {
   "cell_type": "markdown",
   "metadata": {},
   "source": [
    " Create tuples"
   ]
  },
  {
   "cell_type": "code",
   "execution_count": 8,
   "metadata": {},
   "outputs": [
    {
     "name": "stdout",
     "output_type": "stream",
     "text": [
      "(10, 20, 60) ('Apple', 'Oranges', 'Grapes')\n"
     ]
    }
   ],
   "source": [
    "# use () instead of []\n",
    "dimensions = (10, 20, 60)\n",
    "fruits = tuple(('Apple', 'Oranges', 'Grapes'))\n",
    "\n",
    "print(dimensions, fruits)"
   ]
  },
  {
   "cell_type": "code",
   "execution_count": 9,
   "metadata": {},
   "outputs": [
    {
     "name": "stdout",
     "output_type": "stream",
     "text": [
      "10 <class 'int'>\n",
      "(10,) <class 'tuple'>\n"
     ]
    }
   ],
   "source": [
    "# Single value needs trailing comma\n",
    "# tuples with only 1 member: use ,\n",
    "tp1 = (10)\n",
    "print (tp1, type(tp1))\n",
    "tp2 = (10,)\n",
    "print (tp2, type(tp2))"
   ]
  },
  {
   "cell_type": "markdown",
   "metadata": {},
   "source": [
    "## Members"
   ]
  },
  {
   "cell_type": "code",
   "execution_count": 10,
   "metadata": {},
   "outputs": [
    {
     "name": "stdout",
     "output_type": "stream",
     "text": [
      "Oranges\n"
     ]
    }
   ],
   "source": [
    "# Access to a member\n",
    "print(fruits[1])"
   ]
  },
  {
   "cell_type": "markdown",
   "metadata": {},
   "source": [
    "we cannot change the values: dimensions[0]=1 causes error"
   ]
  },
  {
   "cell_type": "code",
   "execution_count": 13,
   "metadata": {},
   "outputs": [],
   "source": [
    "# Delete the whole tuple\n",
    "del dimensions\n",
    "#print(dimensions) # returns error\n"
   ]
  },
  {
   "cell_type": "code",
   "execution_count": 6,
   "metadata": {},
   "outputs": [
    {
     "name": "stdout",
     "output_type": "stream",
     "text": [
      "3\n"
     ]
    }
   ],
   "source": [
    "# Get length\n",
    "print(len(fruits))"
   ]
  }
 ],
 "metadata": {
  "kernelspec": {
   "display_name": "Python 3",
   "language": "python",
   "name": "python3"
  },
  "language_info": {
   "codemirror_mode": {
    "name": "ipython",
    "version": 3
   },
   "file_extension": ".py",
   "mimetype": "text/x-python",
   "name": "python",
   "nbconvert_exporter": "python",
   "pygments_lexer": "ipython3",
   "version": "3.12.4"
  }
 },
 "nbformat": 4,
 "nbformat_minor": 2
}
